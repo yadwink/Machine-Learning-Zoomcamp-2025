{
 "cells": [
  {
   "cell_type": "markdown",
   "id": "18482f7a",
   "metadata": {},
   "source": [
    "### Question 1\n",
    "    Install uv\n",
    "    What's the version of uv you installed?\n",
    "    Use --version to find out"
   ]
  },
  {
   "cell_type": "markdown",
   "id": "60f65409",
   "metadata": {},
   "source": [
    "    Answer: I used the command pip install uv\n",
    "    uv --version\n",
    "    uv 0.9.5\n"
   ]
  },
  {
   "cell_type": "markdown",
   "id": "2d8388d9",
   "metadata": {},
   "source": [
    "### Question 2\n",
    "    Use uv to install Scikit-Learn version 1.6.1\n",
    "    What's the first hash for Scikit-Learn you get in the lock file?\n",
    "    Include the entire string starting with sha256:, don't include quotes"
   ]
  },
  {
   "cell_type": "markdown",
   "id": "92c51116",
   "metadata": {},
   "source": [
    "    [[package]]\n",
    "    name = \"scikit-learn\"\n",
    "    version = \"1.6.1\"\n",
    "    source = { registry = \"https://pypi.org/simple\" }\n",
    "    dependencies = [\n",
    "        { name = \"joblib\" },\n",
    "        { name = \"numpy\" },\n",
    "        { name = \"scipy\" },\n",
    "        { name = \"threadpoolctl\" },\n",
    "    ]\n",
    "    sdist = { url = \"https://files.pythonhosted.org/packages/9e/a5/4ae3b3a0755f7b35a280ac90b28817d1f380318973cff14075ab41ef50d9/scikit_learn-1.6.1.tar.gz\", \n",
    "    hash = \"sha256:b4fc2525eca2c69a59260f583c56a7557c6ccdf8deafdba6e060f94c1c59738e\", size = 7068312, upload-time = \"2025-01-10T08:07:55.348Z\" }\n",
    "\n",
    "    Answer is : sha256:b4fc2525eca2c69a59260f583c56a7557c6ccdf8deafdba6e060f94c1c59738e"
   ]
  },
  {
   "cell_type": "markdown",
   "id": "55b7eacb",
   "metadata": {},
   "source": [
    "### Question 3\n",
    "    Let's use the model!\n",
    "\n",
    "    Write a script for loading the pipeline with pickle\n",
    "    Score this record:\n",
    "    {\n",
    "        \"lead_source\": \"paid_ads\",\n",
    "        \"number_of_courses_viewed\": 2,\n",
    "        \"annual_income\": 79276.0\n",
    "    }\n",
    "    What's the probability that this lead will convert?\n",
    "\n",
    "    0.333\n",
    "    0.533\n",
    "    0.733\n",
    "    0.933"
   ]
  },
  {
   "cell_type": "code",
   "execution_count": null,
   "id": "d945788b",
   "metadata": {},
   "outputs": [],
   "source": [
    "import pickle\n",
    "from pathlib import Path\n",
    "\n",
    "# ---------- config ----------\n",
    "MODEL_PATH = Path(\"pipeline_v1.bin\")\n",
    "\n",
    "record = {\n",
    "    \"lead_source\": \"paid_ads\",\n",
    "    \"number_of_courses_viewed\": 2,\n",
    "    \"annual_income\": 79276.0,\n",
    "}\n",
    "choices = [0.333, 0.533, 0.733, 0.933]\n",
    "# ----------------------------\n",
    "\n",
    "def pick_option(prob, options):\n",
    "    # nearest; if exactly in-between, choose the higher option\n",
    "    # (equivalent to rounding to nearest, ties go up)\n",
    "    best = options[0]\n",
    "    best_dist = abs(prob - best)\n",
    "    for opt in options[1:]:\n",
    "        dist = abs(prob - opt)\n",
    "        if dist < best_dist or (abs(dist - best_dist) < 1e-12 and opt > best):\n",
    "            best = opt\n",
    "            best_dist = dist\n",
    "    return best\n",
    "\n",
    "def main():\n",
    "    print(\"Loading model from:\", MODEL_PATH.resolve())\n",
    "    if not MODEL_PATH.exists():\n",
    "        raise FileNotFoundError(\"pipeline_v1.bin not found in current folder\")\n",
    "\n",
    "    with open(MODEL_PATH, \"rb\") as f:\n",
    "        model = pickle.load(f)\n",
    "\n",
    "    # DictVectorizer inside the pipeline expects a list of dicts\n",
    "    proba = model.predict_proba([record])[0, 1]\n",
    "    print(f\"Probability: {proba:.6f}\")\n",
    "\n",
    "    chosen = pick_option(proba, choices)\n",
    "    print(\"Closest MCQ option:\", chosen)\n",
    "\n",
    "if __name__ == \"__main__\":\n",
    "    main()\n"
   ]
  },
  {
   "cell_type": "markdown",
   "id": "281a062e",
   "metadata": {},
   "source": [
    "uv add scikit-learn==1.6.1\n",
    " uv run python -u main.py\n",
    "\n",
    " Probability: 0.533607\n",
    "Closest MCQ option: 0.533"
   ]
  },
  {
   "cell_type": "markdown",
   "id": "2b1915d5",
   "metadata": {},
   "source": [
    "### Question 4\n",
    "    Now let's serve this model as a web service\n",
    "\n",
    "    Install FastAPI\n",
    "    Write FastAPI code for serving the model\n",
    "    Now score this client using requests:\n",
    "    url = \"YOUR_URL\"\n",
    "    client = {\n",
    "        \"lead_source\": \"organic_search\",\n",
    "        \"number_of_courses_viewed\": 4,\n",
    "        \"annual_income\": 80304.0\n",
    "    }\n",
    "    requests.post(url, json=client).json()\n",
    "    What's the probability that this client will get a subscription?\n",
    "\n",
    "        0.334\n",
    "        0.534\n",
    "        0.734\n",
    "        0.934"
   ]
  },
  {
   "cell_type": "markdown",
   "id": "85195537",
   "metadata": {},
   "source": [
    "### Answer: {'probability': 0.5340417283801275}\n",
    "\n",
    "     Activated the virtual enviorment\n",
    "     Installed dependencies: pip install fastapi \"uvicorn[standard]\" scikit-learn==1.6.1 requests\n",
    "     Started  the FastAPI server: python -m uvicorn app:app --reload --host 0.0.0.0 --port 8000\n",
    "\n"
   ]
  },
  {
   "cell_type": "markdown",
   "id": "4c620306",
   "metadata": {},
   "source": [
    "### Docker\n",
    "#### Install Docker. We will use it for the next two questions.\n",
    "\n",
    "    For these questions, we prepared a base image: agrigorev/zoomcamp-model:2025. You'll need to use it (see Question 5 for an example).\n",
    "\n",
    "    This image is based on 3.13.5-slim-bookworm and has a pipeline with logistic regression (a different one) as well a dictionary vectorizer inside.\n",
    "\n",
    "    This is how the Dockerfile for this image looks like:\n",
    "\n",
    "    FROM python:3.13.5-slim-bookworm\n",
    "    WORKDIR /code\n",
    "    COPY pipeline_v2.bin .\n",
    "    We already built it and then pushed it to agrigorev/zoomcamp-model:2025.\n",
    "\n",
    "    Note: You don't need to build this docker image, it's just for your reference."
   ]
  },
  {
   "cell_type": "markdown",
   "id": "3238d772",
   "metadata": {},
   "source": [
    "### Asnwer\n",
    "    1. I started Docker Desktop on Windows and made sure the daemon was running. I verified Docker was available from PowerShell with: docker info (This returned information about the Docker Engine, confirming the daemon was running.)\n",
    "    2. I pulled the prepared base image from Docker Hub: docker pull agrigorev/zoomcamp-model:2025\n",
    "    3. After the pull completed I checked the local images: docker images agrigorev/zoomcamp-model:2025 Example output I saw: REPOSITORY TAG IMAGE ID CREATED SIZE agrigorev/zoomcamp-model 2025 14d79fde0bbf 9 days ago 181MB\n",
    "    4. I started a container with an interactive bash shell: docker run --rm -it agrigorev/zoomcamp-model:2025 bash\n",
    "    5. Inside the container I listed the /code directory: root@...:/code# ls -la /code total 12 drwxr-xr-x 1 root root 4096 ... -rwxr-xr-x 1 root root 1296 Oct 21 07:50 pipeline_v2.bin: This confirmed pipeline_v2.bin was present at /code inside the image\n",
    "    6. If I wanted a repeatable image with FastAPI and scikit-learn installed and the model baked in, I created a Dockerfile like this (placed in the same directory as pipeline_v1.bin and my app.py):\n",
    "\n",
    "Dockerfile FROM python:3.13.5-slim-bookworm WORKDIR /code COPY pipeline_v1.bin . RUN pip install --no-cache-dir fastapi \"uvicorn[standard]\" scikit-learn==1.6.1 COPY app.py . EXPOSE 8000 CMD [\"uvicorn\", \"app:app\", \"--host\", \"0.0.0.0\", \"--port\", \"8000\"]\n",
    "\n",
    "7. Then I built and ran the image: docker build -t my-lead-scorer:v1 . docker run --rm -p 8000:8000 --name lead-scorer my-lead-scorer:v1\n",
    "\n",
    "\n",
    "\n",
    "\n",
    "\n"
   ]
  },
  {
   "cell_type": "markdown",
   "id": "cdece959",
   "metadata": {},
   "source": [
    "Question 6\n",
    "Let's run your docker container!\n",
    "\n",
    "After running it, score this client once again:\n",
    "\n",
    "url = \"YOUR_URL\"\n",
    "client = {\n",
    "    \"lead_source\": \"organic_search\",\n",
    "    \"number_of_courses_viewed\": 4,\n",
    "    \"annual_income\": 80304.0\n",
    "}\n",
    "requests.post(url, json=client).json()\n",
    "What's the probability that this lead will convert?\n",
    "\n",
    "0.39\n",
    "0.59\n",
    "0.79\n",
    "0.99"
   ]
  }
 ],
 "metadata": {
  "kernelspec": {
   "display_name": "Python 3",
   "language": "python",
   "name": "python3"
  },
  "language_info": {
   "name": "python",
   "version": "3.13.7"
  }
 },
 "nbformat": 4,
 "nbformat_minor": 5
}
