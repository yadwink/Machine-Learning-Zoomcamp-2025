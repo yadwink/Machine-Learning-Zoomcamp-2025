{
 "cells": [
  {
   "cell_type": "markdown",
   "id": "aecf6e1d",
   "metadata": {},
   "source": [
    "Q1. Pandas version:\n",
    "What version of Pandas did you install?"
   ]
  },
  {
   "cell_type": "code",
   "execution_count": 19,
   "id": "e5eadc84",
   "metadata": {},
   "outputs": [
    {
     "data": {
      "text/plain": [
       "'2.3.2'"
      ]
     },
     "execution_count": 19,
     "metadata": {},
     "output_type": "execute_result"
    }
   ],
   "source": [
    "import pandas as pd\n",
    "pd.__version__"
   ]
  },
  {
   "cell_type": "markdown",
   "id": "45e959c9",
   "metadata": {},
   "source": [
    "Q2. Records count"
   ]
  },
  {
   "cell_type": "code",
   "execution_count": 20,
   "id": "670b9b3e",
   "metadata": {},
   "outputs": [
    {
     "name": "stdout",
     "output_type": "stream",
     "text": [
      "   engine_displacement  num_cylinders  horsepower  vehicle_weight  \\\n",
      "0                  170            3.0       159.0     3413.433759   \n",
      "1                  130            5.0        97.0     3149.664934   \n",
      "2                  170            NaN        78.0     3079.038997   \n",
      "3                  220            4.0         NaN     2542.392402   \n",
      "4                  210            1.0       140.0     3460.870990   \n",
      "\n",
      "   acceleration  model_year  origin fuel_type         drivetrain  num_doors  \\\n",
      "0          17.7        2003  Europe  Gasoline    All-wheel drive        0.0   \n",
      "1          17.8        2007     USA  Gasoline  Front-wheel drive        0.0   \n",
      "2          15.1        2018  Europe  Gasoline  Front-wheel drive        0.0   \n",
      "3          20.2        2009     USA    Diesel    All-wheel drive        2.0   \n",
      "4          14.4        2009  Europe  Gasoline    All-wheel drive        2.0   \n",
      "\n",
      "   fuel_efficiency_mpg  \n",
      "0            13.231729  \n",
      "1            13.688217  \n",
      "2            14.246341  \n",
      "3            16.912736  \n",
      "4            12.488369  \n"
     ]
    }
   ],
   "source": [
    "# read data\n",
    "url = \"https://raw.githubusercontent.com/alexeygrigorev/datasets/master/car_fuel_efficiency.csv\"\n",
    "df = pd.read_csv(url)\n",
    "print(df.head())"
   ]
  },
  {
   "cell_type": "code",
   "execution_count": 21,
   "id": "0b9ea0ef",
   "metadata": {},
   "outputs": [
    {
     "name": "stdout",
     "output_type": "stream",
     "text": [
      "      engine_displacement  num_cylinders  horsepower  vehicle_weight  \\\n",
      "0                     170            3.0       159.0     3413.433759   \n",
      "1                     130            5.0        97.0     3149.664934   \n",
      "2                     170            NaN        78.0     3079.038997   \n",
      "3                     220            4.0         NaN     2542.392402   \n",
      "4                     210            1.0       140.0     3460.870990   \n",
      "...                   ...            ...         ...             ...   \n",
      "9699                  140            5.0       164.0     2981.107371   \n",
      "9700                  180            NaN       154.0     2439.525729   \n",
      "9701                  220            2.0       138.0     2583.471318   \n",
      "9702                  230            4.0       177.0     2905.527390   \n",
      "9703                  270            3.0       140.0     2908.043477   \n",
      "\n",
      "      acceleration  model_year  origin fuel_type         drivetrain  \\\n",
      "0             17.7        2003  Europe  Gasoline    All-wheel drive   \n",
      "1             17.8        2007     USA  Gasoline  Front-wheel drive   \n",
      "2             15.1        2018  Europe  Gasoline  Front-wheel drive   \n",
      "3             20.2        2009     USA    Diesel    All-wheel drive   \n",
      "4             14.4        2009  Europe  Gasoline    All-wheel drive   \n",
      "...            ...         ...     ...       ...                ...   \n",
      "9699          17.3        2013  Europe    Diesel  Front-wheel drive   \n",
      "9700          15.0        2004     USA  Gasoline    All-wheel drive   \n",
      "9701          15.1        2008     USA    Diesel    All-wheel drive   \n",
      "9702          19.4        2011     USA    Diesel  Front-wheel drive   \n",
      "9703          14.7        2005    Asia    Diesel    All-wheel drive   \n",
      "\n",
      "      num_doors  fuel_efficiency_mpg  \n",
      "0           0.0            13.231729  \n",
      "1           0.0            13.688217  \n",
      "2           0.0            14.246341  \n",
      "3           2.0            16.912736  \n",
      "4           2.0            12.488369  \n",
      "...         ...                  ...  \n",
      "9699        NaN            15.101802  \n",
      "9700        0.0            17.962326  \n",
      "9701       -1.0            17.186587  \n",
      "9702        1.0            15.331551  \n",
      "9703       -1.0            14.884467  \n",
      "\n",
      "[9704 rows x 11 columns]\n"
     ]
    }
   ],
   "source": [
    "print(df)"
   ]
  },
  {
   "cell_type": "markdown",
   "id": "297ec1cf",
   "metadata": {},
   "source": [
    "Q2. Records count:\n",
    "How many records are in the dataset?"
   ]
  },
  {
   "cell_type": "code",
   "execution_count": 22,
   "id": "c0428ed0",
   "metadata": {},
   "outputs": [
    {
     "name": "stdout",
     "output_type": "stream",
     "text": [
      "No. of records in this dataset are: 9704\n"
     ]
    }
   ],
   "source": [
    "rec_count = len(df)\n",
    "print(\"No. of records in this dataset are:\", rec_count)"
   ]
  },
  {
   "cell_type": "markdown",
   "id": "32d84671",
   "metadata": {},
   "source": [
    "Q3. Fuel types: \n",
    "How many fuel types are presented in the dataset?"
   ]
  },
  {
   "cell_type": "code",
   "execution_count": 23,
   "id": "98ea6d68",
   "metadata": {},
   "outputs": [
    {
     "name": "stdout",
     "output_type": "stream",
     "text": [
      "number of fuel types in this dataset are: 2\n"
     ]
    }
   ],
   "source": [
    "num_fuel_types = df['fuel_type'].nunique()\n",
    "print(\"number of fuel types in this dataset are:\", num_fuel_types)"
   ]
  },
  {
   "cell_type": "markdown",
   "id": "9cc7ea33",
   "metadata": {},
   "source": [
    "Q4. Missing values:\n",
    "How many columns in the dataset have missing values?"
   ]
  },
  {
   "cell_type": "code",
   "execution_count": 24,
   "id": "a7de91a1",
   "metadata": {},
   "outputs": [
    {
     "name": "stdout",
     "output_type": "stream",
     "text": [
      "engine_displacement      0\n",
      "num_cylinders          482\n",
      "horsepower             708\n",
      "vehicle_weight           0\n",
      "acceleration           930\n",
      "model_year               0\n",
      "origin                   0\n",
      "fuel_type                0\n",
      "drivetrain               0\n",
      "num_doors              502\n",
      "fuel_efficiency_mpg      0\n",
      "dtype: int64\n"
     ]
    }
   ],
   "source": [
    "missing_val = df.isnull().sum()\n",
    "print(missing_val)"
   ]
  },
  {
   "cell_type": "code",
   "execution_count": 25,
   "id": "9aac4cde",
   "metadata": {},
   "outputs": [
    {
     "name": "stdout",
     "output_type": "stream",
     "text": [
      "Columns with missing values: 4\n"
     ]
    }
   ],
   "source": [
    "total_missing_val = (missing_val > 0).sum()\n",
    "print(\"Columns with missing values:\",total_missing_val)"
   ]
  },
  {
   "cell_type": "markdown",
   "id": "0c7c960a",
   "metadata": {},
   "source": [
    "Q5. Max fuel efficiency: \n",
    "What's the maximum fuel efficiency of cars from Asia?"
   ]
  },
  {
   "cell_type": "code",
   "execution_count": 26,
   "id": "6cf39515",
   "metadata": {},
   "outputs": [
    {
     "name": "stdout",
     "output_type": "stream",
     "text": [
      "the maximum fuel efficiency of cars from Asia: 23.759122836520497\n"
     ]
    }
   ],
   "source": [
    "max_fuel = df[df['origin'] == 'Asia'] ['fuel_efficiency_mpg'].max()\n",
    "print(\"the maximum fuel efficiency of cars from Asia:\",max_fuel )"
   ]
  },
  {
   "cell_type": "markdown",
   "id": "5856b3bd",
   "metadata": {},
   "source": [
    "Q6. Median value of horsepower: \n",
    " 6.1 Find the median value of the horsepower column in the dataset."
   ]
  },
  {
   "cell_type": "code",
   "execution_count": 27,
   "id": "25698c5a",
   "metadata": {},
   "outputs": [
    {
     "name": "stdout",
     "output_type": "stream",
     "text": [
      "the median value of the horsepower: 149.0\n"
     ]
    }
   ],
   "source": [
    "median_hp = df['horsepower'].median()\n",
    "print(\"the median value of the horsepower:\", median_hp)"
   ]
  },
  {
   "cell_type": "markdown",
   "id": "02048535",
   "metadata": {},
   "source": [
    "    6.2 Next, calculate the most frequent value of the same horsepower column."
   ]
  },
  {
   "cell_type": "code",
   "execution_count": 28,
   "id": "1fa839c8",
   "metadata": {},
   "outputs": [
    {
     "name": "stdout",
     "output_type": "stream",
     "text": [
      "Most frquent horsepower value: 152.0\n"
     ]
    }
   ],
   "source": [
    "most_frequest_hp = df['horsepower'].mode()[0]\n",
    "print(\"Most frquent horsepower value:\",most_frequest_hp )"
   ]
  },
  {
   "cell_type": "markdown",
   "id": "a31f6b43",
   "metadata": {},
   "source": [
    "    6.3 Use the fillna method to fill the missing values in the horsepower column with the most frequent value from the previous step."
   ]
  },
  {
   "cell_type": "code",
   "execution_count": 29,
   "id": "83529c57",
   "metadata": {},
   "outputs": [
    {
     "name": "stdout",
     "output_type": "stream",
     "text": [
      "0       159.0\n",
      "1        97.0\n",
      "2        78.0\n",
      "3       152.0\n",
      "4       140.0\n",
      "        ...  \n",
      "9699    164.0\n",
      "9700    154.0\n",
      "9701    138.0\n",
      "9702    177.0\n",
      "9703    140.0\n",
      "Name: horsepower, Length: 9704, dtype: float64\n"
     ]
    }
   ],
   "source": [
    "new_hp = df['horsepower'].fillna(most_frequest_hp)\n",
    "print(new_hp) "
   ]
  },
  {
   "cell_type": "markdown",
   "id": "094565ca",
   "metadata": {},
   "source": [
    "Now, calculate the median value of horsepower once again."
   ]
  },
  {
   "cell_type": "code",
   "execution_count": 30,
   "id": "a0afb77b",
   "metadata": {},
   "outputs": [
    {
     "name": "stdout",
     "output_type": "stream",
     "text": [
      "the horsepower after filling missing values: 152.0\n"
     ]
    }
   ],
   "source": [
    "new_median = new_hp.median()\n",
    "print(\"the horsepower after filling missing values:\", new_median) "
   ]
  },
  {
   "cell_type": "markdown",
   "id": "58bd8c10",
   "metadata": {},
   "source": [
    "#### Original median horsepower: 149.0\n",
    "#### Most frequent horsepower value (mode): 152.0\n",
    "#### New median after filling missing values with 152.0: 152.0\n",
    "    \n",
    "#### Has the median changed?\n",
    "\n",
    "#### Yes, it increased.\n",
    "#### This is because the mode (152.0) is higher than the original median (149.0), so filling missing values with 152.0 shifts the median upward."
   ]
  },
  {
   "cell_type": "markdown",
   "id": "91a69f65",
   "metadata": {},
   "source": [
    "Q7. Sum of weights"
   ]
  },
  {
   "cell_type": "code",
   "execution_count": null,
   "id": "46358bff",
   "metadata": {},
   "outputs": [
    {
     "name": "stdout",
     "output_type": "stream",
     "text": [
      "      vehicle_weight  model_year\n",
      "8        2714.219310        2016\n",
      "12       2783.868974        2010\n",
      "14       3582.687368        2007\n",
      "20       2231.808142        2011\n",
      "21       2659.431451        2016\n",
      "...              ...         ...\n",
      "9688     3948.404625        2018\n",
      "9692     3680.341381        2016\n",
      "9693     2545.070139        2012\n",
      "9698     3107.427820        2005\n",
      "9703     2908.043477        2005\n",
      "\n",
      "[3247 rows x 2 columns]\n",
      "    vehicle_weight  model_year\n",
      "8      2714.219310        2016\n",
      "12     2783.868974        2010\n",
      "14     3582.687368        2007\n",
      "20     2231.808142        2011\n",
      "21     2659.431451        2016\n",
      "34     2844.227534        2014\n",
      "38     3761.994038        2019\n"
     ]
    }
   ],
   "source": [
    "# 7.1 Select all the cars from Asia &Select only columns vehicle_weight and model_year\n",
    "asia_cars = df[df['origin'] == 'Asia'] [['vehicle_weight','model_year']]\n",
    "print(asia_cars.head(7))"
   ]
  },
  {
   "cell_type": "code",
   "execution_count": 32,
   "id": "cc6ee148",
   "metadata": {},
   "outputs": [
    {
     "data": {
      "text/plain": [
       "array([[2714.21930965, 2016.        ],\n",
       "       [2783.86897424, 2010.        ],\n",
       "       [3582.68736772, 2007.        ],\n",
       "       [2231.8081416 , 2011.        ],\n",
       "       [2659.43145076, 2016.        ],\n",
       "       [2844.22753389, 2014.        ],\n",
       "       [3761.99403819, 2019.        ]])"
      ]
     },
     "execution_count": 32,
     "metadata": {},
     "output_type": "execute_result"
    }
   ],
   "source": [
    "# 7.2 Select the first 7 values & Get the underlying NumPy array. Let's call it X\n",
    "\n",
    "X = asia_cars.head(7).values\n",
    "X"
   ]
  },
  {
   "cell_type": "code",
   "execution_count": 33,
   "id": "5c2ef8c9",
   "metadata": {},
   "outputs": [
    {
     "name": "stdout",
     "output_type": "stream",
     "text": [
      "[[62248334.33150762 41431216.5073268 ]\n",
      " [41431216.5073268  28373339.        ]]\n"
     ]
    }
   ],
   "source": [
    "# 7.3  Compute matrix-matrix multiplication between the transpose of X and X. To get the transpose, use X.T. Let's call the result XTX.\n",
    "import numpy as np\n",
    "XTX = np.dot(X.T, X)\n",
    "print(XTX)"
   ]
  },
  {
   "cell_type": "code",
   "execution_count": 34,
   "id": "b46f9c9b",
   "metadata": {},
   "outputs": [
    {
     "name": "stdout",
     "output_type": "stream",
     "text": [
      "[[ 5.71497081e-07 -8.34509443e-07]\n",
      " [-8.34509443e-07  1.25380877e-06]]\n",
      "[1100 1300  800  900 1000 1100 1200]\n"
     ]
    }
   ],
   "source": [
    "# 7.4 Invert XTX. & Create an array y with values [1100, 1300, 800, 900, 1000, 1100, 1200]\n",
    "XTX_inv = np.linalg.inv(XTX)\n",
    "print(XTX_inv)\n",
    "\n",
    "# Create array y\n",
    "y = np.array([1100, 1300, 800, 900, 1000, 1100, 1200])\n",
    "print(y)"
   ]
  },
  {
   "cell_type": "code",
   "execution_count": 35,
   "id": "cf324193",
   "metadata": {},
   "outputs": [
    {
     "name": "stdout",
     "output_type": "stream",
     "text": [
      "[0.01386421 0.5049067 ]\n"
     ]
    }
   ],
   "source": [
    "# 7.4 Multiply the inverse of XTX with the transpose of X, and then multiply the result by y. Call the result w. \n",
    "W = np.dot(np.dot(XTX_inv, X.T),y)\n",
    "print(W)"
   ]
  },
  {
   "cell_type": "code",
   "execution_count": 36,
   "id": "c61c8adc",
   "metadata": {},
   "outputs": [
    {
     "name": "stdout",
     "output_type": "stream",
     "text": [
      "the sum: 0.5187709081074016\n"
     ]
    }
   ],
   "source": [
    "# 7.5 What's the sum of all the elements of the result?\n",
    "sum_result = W.sum()\n",
    "print(\"the sum:\", sum_result)"
   ]
  }
 ],
 "metadata": {
  "kernelspec": {
   "display_name": "Python 3",
   "language": "python",
   "name": "python3"
  },
  "language_info": {
   "codemirror_mode": {
    "name": "ipython",
    "version": 3
   },
   "file_extension": ".py",
   "mimetype": "text/x-python",
   "name": "python",
   "nbconvert_exporter": "python",
   "pygments_lexer": "ipython3",
   "version": "3.13.7"
  }
 },
 "nbformat": 4,
 "nbformat_minor": 5
}
