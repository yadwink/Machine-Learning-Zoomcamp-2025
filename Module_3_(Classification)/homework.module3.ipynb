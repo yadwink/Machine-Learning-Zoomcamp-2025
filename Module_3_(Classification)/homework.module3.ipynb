{
 "cells": [
  {
   "cell_type": "code",
   "execution_count": 23,
   "id": "bfb9cd44",
   "metadata": {},
   "outputs": [],
   "source": [
    "import pandas as pd\n",
    "import numpy as np\n",
    "import matplotlib.pyplot as plt\n",
    "import seaborn as sns\n",
    "from sklearn.model_selection import train_test_split"
   ]
  },
  {
   "cell_type": "markdown",
   "id": "0d80f0ce",
   "metadata": {},
   "source": [
    "#### Dataset\n",
    "    In this dataset our desired target for classification task will be converted variable - has the client signed up to the platform or not."
   ]
  },
  {
   "cell_type": "code",
   "execution_count": 4,
   "id": "393d0b6d",
   "metadata": {},
   "outputs": [
    {
     "name": "stdout",
     "output_type": "stream",
     "text": [
      "    lead_source    industry  number_of_courses_viewed  annual_income  \\\n",
      "0      paid_ads         NaN                         1        79450.0   \n",
      "1  social_media      retail                         1        46992.0   \n",
      "2        events  healthcare                         5        78796.0   \n",
      "3      paid_ads      retail                         2        83843.0   \n",
      "4      referral   education                         3        85012.0   \n",
      "\n",
      "  employment_status       location  interaction_count  lead_score  converted  \n",
      "0        unemployed  south_america                  4        0.94          1  \n",
      "1          employed  south_america                  1        0.80          0  \n",
      "2        unemployed      australia                  3        0.69          1  \n",
      "3               NaN      australia                  1        0.87          0  \n",
      "4     self_employed         europe                  3        0.62          1  \n"
     ]
    }
   ],
   "source": [
    "df = pd.read_csv('course_lead_scoring.csv')\n",
    "print(df.head())  "
   ]
  },
  {
   "cell_type": "markdown",
   "id": "60054ee5",
   "metadata": {
    "vscode": {
     "languageId": "markdown"
    }
   },
   "source": [
    "#### Data preparation\n",
    "    Check if the missing values are presented in the features.\n",
    "    If there are missing values:\n",
    "    For categorical features, replace them with 'NA'\n",
    "    For numerical features, replace with with 0.0"
   ]
  },
  {
   "cell_type": "code",
   "execution_count": 5,
   "id": "856f0f58",
   "metadata": {},
   "outputs": [
    {
     "name": "stdout",
     "output_type": "stream",
     "text": [
      "\n",
      "Missing values before handling:\n",
      "lead_source                 128\n",
      "industry                    134\n",
      "number_of_courses_viewed      0\n",
      "annual_income               181\n",
      "employment_status           100\n",
      "location                     63\n",
      "interaction_count             0\n",
      "lead_score                    0\n",
      "converted                     0\n",
      "dtype: int64\n"
     ]
    }
   ],
   "source": [
    "# Check for missing values\n",
    "print(\"\\nMissing values before handling:\")\n",
    "print(df.isnull().sum())"
   ]
  },
  {
   "cell_type": "code",
   "execution_count": 9,
   "id": "4bd2805a",
   "metadata": {},
   "outputs": [
    {
     "name": "stdout",
     "output_type": "stream",
     "text": [
      "categorcial columns are: Index(['lead_source', 'industry', 'employment_status', 'location'], dtype='object')\n",
      "numerical columns are: Index(['number_of_courses_viewed', 'annual_income', 'interaction_count',\n",
      "       'lead_score', 'converted'],\n",
      "      dtype='object')\n"
     ]
    }
   ],
   "source": [
    "# Separate categorical and numerical columns\n",
    "categorical_cols = df.select_dtypes(include=['object']).columns\n",
    "print(\"categorcial columns are:\", categorical_cols)\n",
    "\n",
    "numerical_cols = df.select_dtypes(include=['number']).columns\n",
    "print(\"numerical columns are:\", numerical_cols)"
   ]
  },
  {
   "cell_type": "code",
   "execution_count": 16,
   "id": "bb179253",
   "metadata": {},
   "outputs": [],
   "source": [
    "# Fill missing values\n",
    "df_cat = df[categorical_cols].fillna('NA')\n",
    "df_num = df[numerical_cols].fillna(0.0)"
   ]
  },
  {
   "cell_type": "code",
   "execution_count": 17,
   "id": "3a4f8f11",
   "metadata": {},
   "outputs": [
    {
     "name": "stdout",
     "output_type": "stream",
     "text": [
      "\n",
      "Missing values after handling:\n",
      "lead_source                 0\n",
      "industry                    0\n",
      "number_of_courses_viewed    0\n",
      "annual_income               0\n",
      "employment_status           0\n",
      "location                    0\n",
      "interaction_count           0\n",
      "lead_score                  0\n",
      "converted                   0\n",
      "dtype: int64\n",
      "\n",
      "Data after filling missing values:\n",
      "    lead_source    industry  number_of_courses_viewed  annual_income  \\\n",
      "0      paid_ads          NA                         1        79450.0   \n",
      "1  social_media      retail                         1        46992.0   \n",
      "2        events  healthcare                         5        78796.0   \n",
      "3      paid_ads      retail                         2        83843.0   \n",
      "4      referral   education                         3        85012.0   \n",
      "\n",
      "  employment_status       location  interaction_count  lead_score  converted  \n",
      "0        unemployed  south_america                  4        0.94          1  \n",
      "1          employed  south_america                  1        0.80          0  \n",
      "2        unemployed      australia                  3        0.69          1  \n",
      "3                NA      australia                  1        0.87          0  \n",
      "4     self_employed         europe                  3        0.62          1  \n"
     ]
    }
   ],
   "source": [
    "# Check again to confirm no missing values remain\n",
    "print(\"\\nMissing values after handling:\")\n",
    "print(df.isnull().sum())\n",
    "\n",
    "# updated dataset\n",
    "print(\"\\nData after filling missing values:\")\n",
    "print(df.head())"
   ]
  },
  {
   "cell_type": "markdown",
   "id": "abe7cfa2",
   "metadata": {},
   "source": [
    "### Question 1\n",
    "What is the most frequent observation (mode) for the column industry?\n"
   ]
  },
  {
   "cell_type": "code",
   "execution_count": 13,
   "id": "b8a2acf9",
   "metadata": {},
   "outputs": [
    {
     "name": "stdout",
     "output_type": "stream",
     "text": [
      "Most frequent industry: retail\n"
     ]
    }
   ],
   "source": [
    "mode_industry = df['industry'].mode()[0]\n",
    "print(\"Most frequent industry:\", mode_industry)"
   ]
  },
  {
   "cell_type": "markdown",
   "id": "817c2f61",
   "metadata": {},
   "source": [
    "### Question 2\n",
    "Create the correlation matrix for the numerical features of your dataset. In a correlation matrix, you compute the correlation coefficient between every pair of features.\n",
    "\n",
    "    What are the two features that have the biggest correlation?\n",
    "\n",
    "        interaction_count and lead_score\n",
    "        number_of_courses_viewed and lead_score\n",
    "        number_of_courses_viewed and interaction_count\n",
    "        annual_income and interaction_count\n",
    "        \n",
    "        Only consider the pairs above when answering this question."
   ]
  },
  {
   "cell_type": "code",
   "execution_count": 18,
   "id": "5119321f",
   "metadata": {},
   "outputs": [
    {
     "data": {
      "text/html": [
       "<div>\n",
       "<style scoped>\n",
       "    .dataframe tbody tr th:only-of-type {\n",
       "        vertical-align: middle;\n",
       "    }\n",
       "\n",
       "    .dataframe tbody tr th {\n",
       "        vertical-align: top;\n",
       "    }\n",
       "\n",
       "    .dataframe thead th {\n",
       "        text-align: right;\n",
       "    }\n",
       "</style>\n",
       "<table border=\"1\" class=\"dataframe\">\n",
       "  <thead>\n",
       "    <tr style=\"text-align: right;\">\n",
       "      <th></th>\n",
       "      <th>number_of_courses_viewed</th>\n",
       "      <th>annual_income</th>\n",
       "      <th>interaction_count</th>\n",
       "      <th>lead_score</th>\n",
       "      <th>converted</th>\n",
       "    </tr>\n",
       "  </thead>\n",
       "  <tbody>\n",
       "    <tr>\n",
       "      <th>0</th>\n",
       "      <td>1</td>\n",
       "      <td>79450.0</td>\n",
       "      <td>4</td>\n",
       "      <td>0.94</td>\n",
       "      <td>1</td>\n",
       "    </tr>\n",
       "    <tr>\n",
       "      <th>1</th>\n",
       "      <td>1</td>\n",
       "      <td>46992.0</td>\n",
       "      <td>1</td>\n",
       "      <td>0.80</td>\n",
       "      <td>0</td>\n",
       "    </tr>\n",
       "    <tr>\n",
       "      <th>2</th>\n",
       "      <td>5</td>\n",
       "      <td>78796.0</td>\n",
       "      <td>3</td>\n",
       "      <td>0.69</td>\n",
       "      <td>1</td>\n",
       "    </tr>\n",
       "    <tr>\n",
       "      <th>3</th>\n",
       "      <td>2</td>\n",
       "      <td>83843.0</td>\n",
       "      <td>1</td>\n",
       "      <td>0.87</td>\n",
       "      <td>0</td>\n",
       "    </tr>\n",
       "    <tr>\n",
       "      <th>4</th>\n",
       "      <td>3</td>\n",
       "      <td>85012.0</td>\n",
       "      <td>3</td>\n",
       "      <td>0.62</td>\n",
       "      <td>1</td>\n",
       "    </tr>\n",
       "    <tr>\n",
       "      <th>...</th>\n",
       "      <td>...</td>\n",
       "      <td>...</td>\n",
       "      <td>...</td>\n",
       "      <td>...</td>\n",
       "      <td>...</td>\n",
       "    </tr>\n",
       "    <tr>\n",
       "      <th>1457</th>\n",
       "      <td>1</td>\n",
       "      <td>0.0</td>\n",
       "      <td>4</td>\n",
       "      <td>0.53</td>\n",
       "      <td>1</td>\n",
       "    </tr>\n",
       "    <tr>\n",
       "      <th>1458</th>\n",
       "      <td>3</td>\n",
       "      <td>65259.0</td>\n",
       "      <td>2</td>\n",
       "      <td>0.24</td>\n",
       "      <td>1</td>\n",
       "    </tr>\n",
       "    <tr>\n",
       "      <th>1459</th>\n",
       "      <td>1</td>\n",
       "      <td>45688.0</td>\n",
       "      <td>3</td>\n",
       "      <td>0.02</td>\n",
       "      <td>1</td>\n",
       "    </tr>\n",
       "    <tr>\n",
       "      <th>1460</th>\n",
       "      <td>5</td>\n",
       "      <td>71016.0</td>\n",
       "      <td>0</td>\n",
       "      <td>0.25</td>\n",
       "      <td>1</td>\n",
       "    </tr>\n",
       "    <tr>\n",
       "      <th>1461</th>\n",
       "      <td>3</td>\n",
       "      <td>92855.0</td>\n",
       "      <td>3</td>\n",
       "      <td>0.41</td>\n",
       "      <td>1</td>\n",
       "    </tr>\n",
       "  </tbody>\n",
       "</table>\n",
       "<p>1462 rows × 5 columns</p>\n",
       "</div>"
      ],
      "text/plain": [
       "      number_of_courses_viewed  annual_income  interaction_count  lead_score  \\\n",
       "0                            1        79450.0                  4        0.94   \n",
       "1                            1        46992.0                  1        0.80   \n",
       "2                            5        78796.0                  3        0.69   \n",
       "3                            2        83843.0                  1        0.87   \n",
       "4                            3        85012.0                  3        0.62   \n",
       "...                        ...            ...                ...         ...   \n",
       "1457                         1            0.0                  4        0.53   \n",
       "1458                         3        65259.0                  2        0.24   \n",
       "1459                         1        45688.0                  3        0.02   \n",
       "1460                         5        71016.0                  0        0.25   \n",
       "1461                         3        92855.0                  3        0.41   \n",
       "\n",
       "      converted  \n",
       "0             1  \n",
       "1             0  \n",
       "2             1  \n",
       "3             0  \n",
       "4             1  \n",
       "...         ...  \n",
       "1457          1  \n",
       "1458          1  \n",
       "1459          1  \n",
       "1460          1  \n",
       "1461          1  \n",
       "\n",
       "[1462 rows x 5 columns]"
      ]
     },
     "execution_count": 18,
     "metadata": {},
     "output_type": "execute_result"
    }
   ],
   "source": [
    "numerical_cols\n",
    "\n",
    "df[numerical_cols]\n",
    "\n",
    "df_num"
   ]
  },
  {
   "cell_type": "code",
   "execution_count": 19,
   "id": "ce08b066",
   "metadata": {},
   "outputs": [
    {
     "name": "stdout",
     "output_type": "stream",
     "text": [
      "                          number_of_courses_viewed  annual_income  \\\n",
      "number_of_courses_viewed                  1.000000       0.009770   \n",
      "annual_income                             0.009770       1.000000   \n",
      "interaction_count                        -0.023565       0.027036   \n",
      "lead_score                               -0.004879       0.015610   \n",
      "converted                                 0.435914       0.053131   \n",
      "\n",
      "                          interaction_count  lead_score  converted  \n",
      "number_of_courses_viewed          -0.023565   -0.004879   0.435914  \n",
      "annual_income                      0.027036    0.015610   0.053131  \n",
      "interaction_count                  1.000000    0.009888   0.374573  \n",
      "lead_score                         0.009888    1.000000   0.193673  \n",
      "converted                          0.374573    0.193673   1.000000  \n"
     ]
    }
   ],
   "source": [
    "\n",
    "# Compute the correlation matrix between numerical_cols\n",
    "corr_matrix = df_num.corr()\n",
    "\n",
    "# Display correlation matrix\n",
    "print(corr_matrix)"
   ]
  },
  {
   "cell_type": "code",
   "execution_count": 22,
   "id": "82ab77bc",
   "metadata": {},
   "outputs": [
    {
     "data": {
      "image/png": "[encoded data removed]",
      "text/plain": [
       "<Figure size 800x600 with 2 Axes>"
      ]
     },
     "metadata": {},
     "output_type": "display_data"
    }
   ],
   "source": [
    "# Set up the matplotlib figure\n",
    "plt.figure(figsize=(8, 6))\n",
    "\n",
    "# Create heatmap\n",
    "sns.heatmap(corr_matrix, annot=True, cmap='coolwarm', fmt=\".2f\", linewidths=0.5)\n",
    "\n",
    "# Add title\n",
    "plt.title(\"Correlation Matrix of Numerical Features\")\n",
    "plt.show()"
   ]
  },
  {
   "cell_type": "code",
   "execution_count": 21,
   "id": "a65eda02",
   "metadata": {},
   "outputs": [
    {
     "name": "stdout",
     "output_type": "stream",
     "text": [
      "interaction_count and lead_score: 0.010\n",
      "number_of_courses_viewed and lead_score: -0.005\n",
      "number_of_courses_viewed and interaction_count: -0.024\n",
      "annual_income and interaction_count: 0.027\n",
      "\n",
      "The strongest correlation is between: annual_income and interaction_count\n"
     ]
    }
   ],
   "source": [
    "# Extract relevant pairs\n",
    "pairs = {\n",
    "    \"interaction_count and lead_score\": corr_matrix.loc[\"interaction_count\", \"lead_score\"],\n",
    "    \"number_of_courses_viewed and lead_score\": corr_matrix.loc[\"number_of_courses_viewed\", \"lead_score\"],\n",
    "    \"number_of_courses_viewed and interaction_count\": corr_matrix.loc[\"number_of_courses_viewed\", \"interaction_count\"],\n",
    "    \"annual_income and interaction_count\": corr_matrix.loc[\"annual_income\", \"interaction_count\"]\n",
    "}\n",
    "\n",
    "# Show all pair correlations\n",
    "for pair, corr in pairs.items():\n",
    "    print(f\"{pair}: {corr:.3f}\")\n",
    "\n",
    "# Identify the pair with the strongest correlation\n",
    "max_pair = max(pairs, key=lambda k: abs(pairs[k]))\n",
    "print(\"\\nThe strongest correlation is between:\", max_pair)\n"
   ]
  },
  {
   "cell_type": "markdown",
   "id": "8128f160",
   "metadata": {},
   "source": [
    "#### Split the data\n",
    "    Split your data in train/val/test sets with 60%/20%/20% distribution.\n",
    "    Use Scikit-Learn for that (the train_test_split function) and set the seed to 42.\n",
    "    Make sure that the target value converted is not in your dataframe."
   ]
  },
  {
   "cell_type": "code",
   "execution_count": 24,
   "id": "52176185",
   "metadata": {},
   "outputs": [
    {
     "name": "stdout",
     "output_type": "stream",
     "text": [
      "876 293 293\n"
     ]
    }
   ],
   "source": [
    "from sklearn.model_selection import train_test_split\n",
    "\n",
    "#  Split off the test set (20%)\n",
    "df_full_train, df_test = train_test_split(df, test_size=0.2, random_state=42)\n",
    "\n",
    "#  Split the remaining data into train (60%) and validation (20%)\n",
    "df_train, df_val = train_test_split(df_full_train, test_size=0.25, random_state=42)\n",
    "# (0.25 * 0.8 = 0.2 → gives 60/20/20 overall)\n",
    "\n",
    "# Check sizes\n",
    "print(len(df_train), len(df_val), len(df_test))\n",
    "\n",
    "# Reset index for all splits\n",
    "df_train = df_train.reset_index(drop=True)\n",
    "df_val = df_val.reset_index(drop=True)\n",
    "df_test = df_test.reset_index(drop=True)\n",
    "\n",
    "# Extract target arrays\n",
    "y_train = df_train.converted.values\n",
    "y_val = df_val.converted.values\n",
    "y_test = df_test.converted.values\n",
    "\n",
    "# Remove target from feature sets\n",
    "del df_train['converted']\n",
    "del df_val['converted']\n",
    "del df_test['converted']\n"
   ]
  },
  {
   "cell_type": "markdown",
   "id": "5a086665",
   "metadata": {},
   "source": [
    "### Question 3\n",
    "    Calculate the mutual information score between converted and other categorical variables in the dataset. Use the training set only.\n",
    "        Round the scores to 2 decimals using round(score, 2).\n",
    "        Which of these variables has the biggest mutual information score?"
   ]
  },
  {
   "cell_type": "code",
   "execution_count": 25,
   "id": "75449b27",
   "metadata": {},
   "outputs": [
    {
     "name": "stdout",
     "output_type": "stream",
     "text": [
      "lead_source: 0.04\n",
      "industry: 0.01\n",
      "employment_status: 0.01\n",
      "location: 0.0\n",
      "\n",
      "Highest mutual information feature: lead_source\n"
     ]
    }
   ],
   "source": [
    "from sklearn.metrics import mutual_info_score\n",
    "\n",
    "# Compute mutual information scores\n",
    "mi_scores = {}\n",
    "for col in categorical_cols:\n",
    "    score = mutual_info_score(df_train[col], y_train)\n",
    "    mi_scores[col] = round(score, 2)\n",
    "\n",
    "# Display results\n",
    "for col, score in mi_scores.items():\n",
    "    print(f\"{col}: {score}\")\n",
    "\n",
    "# Find variable with the largest score\n",
    "best_feature = max(mi_scores, key=mi_scores.get)\n",
    "print(\"\\nHighest mutual information feature:\", best_feature)\n"
   ]
  },
  {
   "cell_type": "markdown",
   "id": "42db0864",
   "metadata": {},
   "source": [
    "### Question 4\n",
    "    Now let's train a logistic regression.\n",
    "\n",
    "    Remember that we have several categorical variables in the dataset. Include them using one-hot encoding.\n",
    "    \n",
    "    Fit the model on the training dataset.\n",
    "\n",
    "    To make sure the results are reproducible across different versions of Scikit-Learn, fit the model with these parameters:\n",
    "    model = LogisticRegression(solver='liblinear', C=1.0, max_iter=1000, random_state=42)\n",
    "\n",
    "    Calculate the accuracy on the validation dataset and round it to 2 decimal digits.\n",
    "\n",
    "    What accuracy did you get?"
   ]
  },
  {
   "cell_type": "code",
   "execution_count": 26,
   "id": "3af7dac4",
   "metadata": {},
   "outputs": [
    {
     "name": "stdout",
     "output_type": "stream",
     "text": [
      "Validation accuracy: 0.7\n"
     ]
    }
   ],
   "source": [
    "from sklearn.linear_model import LogisticRegression\n",
    "from sklearn.feature_extraction import DictVectorizer\n",
    "from sklearn.metrics import accuracy_score\n",
    "\n",
    "#  Convert training/validation sets to dictionaries\n",
    "train_dicts = df_train.to_dict(orient='records')\n",
    "val_dicts = df_val.to_dict(orient='records')\n",
    "\n",
    "#  One-hot encode categorical features\n",
    "dv = DictVectorizer(sparse=False)\n",
    "X_train = dv.fit_transform(train_dicts)\n",
    "X_val = dv.transform(val_dicts)\n",
    "\n",
    "# Train logistic regression model\n",
    "model = LogisticRegression(solver='liblinear', C=1.0, max_iter=1000, random_state=42)\n",
    "model.fit(X_train, y_train)\n",
    "\n",
    "# Make predictions\n",
    "y_pred = model.predict(X_val)\n",
    "\n",
    "# Compute accuracy\n",
    "acc = accuracy_score(y_val, y_pred)\n",
    "print(\"Validation accuracy:\", round(acc, 2))\n"
   ]
  },
  {
   "cell_type": "markdown",
   "id": "1d6964da",
   "metadata": {},
   "source": [
    "### Question 5\n",
    "    Let's find the least useful feature using the feature elimination technique.\n",
    "\n",
    "    Train a model using the same features and parameters as in Q4 (without rounding).\n",
    "\n",
    "    Now exclude each feature from this set and train a model without it. Record the accuracy for each model.\n",
    "\n",
    "    For each feature, calculate the difference between the original accuracy and the accuracy without the feature.\n",
    "\n",
    "    Which of following feature has the smallest difference?\n",
    "\n",
    "        'industry'\n",
    "        'employment_status'\n",
    "        'lead_score'\n",
    "        Note: The difference doesn't have to be positive."
   ]
  },
  {
   "cell_type": "code",
   "execution_count": 29,
   "id": "e51c974f",
   "metadata": {},
   "outputs": [
    {
     "name": "stdout",
     "output_type": "stream",
     "text": [
      "Base accuracy: 0.6996587030716723\n"
     ]
    }
   ],
   "source": [
    "\n",
    "from sklearn.metrics import accuracy_score\n",
    "\n",
    "base_acc = accuracy_score(y_val, y_pred)\n",
    "print(\"Base accuracy:\", base_acc)\n"
   ]
  },
  {
   "cell_type": "code",
   "execution_count": 30,
   "id": "7e9d5183",
   "metadata": {},
   "outputs": [
    {
     "name": "stdout",
     "output_type": "stream",
     "text": [
      "industry: 0.0000\n",
      "employment_status: 0.0034\n",
      "lead_score: -0.0068\n"
     ]
    }
   ],
   "source": [
    "# Function to test accuracy without a feature\n",
    "def evaluate_without_feature(feature):\n",
    "    df_train_new = df_train.drop(columns=[feature])\n",
    "    df_val_new = df_val.drop(columns=[feature])\n",
    "\n",
    "    dv = DictVectorizer(sparse=False)\n",
    "    X_train_new = dv.fit_transform(df_train_new.to_dict(orient='records'))\n",
    "    X_val_new = dv.transform(df_val_new.to_dict(orient='records'))\n",
    "\n",
    "    model = LogisticRegression(solver='liblinear', C=1.0, max_iter=1000, random_state=42)\n",
    "    model.fit(X_train_new, y_train)\n",
    "    y_pred = model.predict(X_val_new)\n",
    "\n",
    "    return accuracy_score(y_val, y_pred)\n",
    "\n",
    "# Evaluate each feature removal\n",
    "for feature in ['industry', 'employment_status', 'lead_score']:\n",
    "    acc = evaluate_without_feature(feature)\n",
    "    diff = base_acc - acc\n",
    "    print(f\"{feature}: {diff:.4f}\")\n"
   ]
  },
  {
   "cell_type": "code",
   "execution_count": 31,
   "id": "923d412e",
   "metadata": {},
   "outputs": [
    {
     "name": "stdout",
     "output_type": "stream",
     "text": [
      "C=0.01: validation accuracy = 0.7\n",
      "C=0.1: validation accuracy = 0.7\n",
      "C=1: validation accuracy = 0.7\n",
      "C=10: validation accuracy = 0.7\n",
      "C=100: validation accuracy = 0.7\n",
      "\n",
      "Best C: 0.01\n"
     ]
    }
   ],
   "source": [
    "\n",
    "train_dicts = df_train.to_dict(orient='records')\n",
    "val_dicts = df_val.to_dict(orient='records')\n",
    "\n",
    "dv = DictVectorizer(sparse=False)\n",
    "X_train = dv.fit_transform(train_dicts)\n",
    "X_val = dv.transform(val_dicts)\n",
    "\n",
    "# Try different C values\n",
    "C_values = [0.01, 0.1, 1, 10, 100]\n",
    "accuracies = []\n",
    "\n",
    "for c in C_values:\n",
    "    model = LogisticRegression(solver='liblinear', C=c, max_iter=1000, random_state=42)\n",
    "    model.fit(X_train, y_train)\n",
    "    y_pred = model.predict(X_val)\n",
    "    acc = accuracy_score(y_val, y_pred)\n",
    "    accuracies.append(round(acc, 3))\n",
    "    print(f\"C={c}: validation accuracy = {round(acc, 3)}\")\n",
    "\n",
    "# Find best C (smallest if tie)\n",
    "best_c = C_values[accuracies.index(max(accuracies))]\n",
    "print(\"\\nBest C:\", best_c)\n"
   ]
  }
 ],
 "metadata": {
  "kernelspec": {
   "display_name": "Python 3",
   "language": "python",
   "name": "python3"
  },
  "language_info": {
   "codemirror_mode": {
    "name": "ipython",
    "version": 3
   },
   "file_extension": ".py",
   "mimetype": "text/x-python",
   "name": "python",
   "nbconvert_exporter": "python",
   "pygments_lexer": "ipython3",
   "version": "3.13.7"
  }
 },
 "nbformat": 4,
 "nbformat_minor": 5
}
