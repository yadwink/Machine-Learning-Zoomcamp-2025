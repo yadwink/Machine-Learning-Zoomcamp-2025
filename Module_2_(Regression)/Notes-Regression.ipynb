{
 "cells": [
  {
   "cell_type": "markdown",
   "id": "e4445a66",
   "metadata": {},
   "source": [
    "### Machine Learning Regression Module - Standard ML Project Steps\n",
    "\n",
    "This module covers Regression and the standard steps needed to implement an ML project. Below are the key steps we follow:\n",
    "\n",
    "### 1. Data Preparation/Cleaning\n",
    "This step includes handling missing values and outliers.\n",
    "\n",
    "**Imputation Methods:**\n",
    "- **Mean/Median Imputation:** Filling in missing values with either the average (mean) or middle value (median) of that variable\n",
    "  - Use mean for normally distributed data\n",
    "  - Use median for skewed data or when outliers are present\n",
    "\n",
    "- **K-Nearest Neighbors (KNN) Imputation:** A more sophisticated approach that finds similar data points (neighbors) and uses their values to estimate missing values\n",
    "  - Preserves relationships between variables\n",
    "  - More accurate than simple mean/median\n",
    "  - Computationally more expensive\n",
    "\n",
    "### 2. Data Integration\n",
    "If multiple related datasets exist, merge them into a single dataset based on common identifiers (keys). This creates a unified dataset for analysis.\n",
    "\n",
    "### 3. Data Transformation\n",
    "Converting variables into suitable formats for analysis through feature engineering.\n",
    "\n",
    "**Common transformations:**\n",
    "- **One-Hot Encoding:** Converting categorical variables into binary columns (for nominal categories)\n",
    "- **Label Encoding:** Converting categorical variables into numerical labels (for ordinal categories)\n",
    "- **Feature Engineering:** Creating new variables that might have better relationships with target variables\n",
    "\n",
    "### 4. Feature Scaling\n",
    "Standardizing or normalizing the range of features so they're on a similar scale.\n",
    "\n",
    "**Why it matters:**\n",
    "Many algorithms use distance calculations or gradient descent, which are sensitive to feature magnitude. Without scaling, features with larger ranges dominate the model.\n",
    "\n",
    "**Example:**\n",
    "- Feature 1: Age (20-80)\n",
    "- Feature 2: Income (20,000-200,000)\n",
    "- Income would disproportionately influence the model due to its larger scale\n",
    "\n",
    "**Common Scaling Techniques:**\n",
    "\n",
    "### 4.1 Normalization (Min-Max Scaling)\n",
    "- Scales features to range [0, 1]\n",
    "- Formula: (x - min) / (max - min)\n",
    "- **Use when:** You need bounded values and don't have outliers\n",
    "\n",
    "### 4.2 Standardization (Z-score Normalization)\n",
    "- Transforms data to mean=0, standard deviation=1\n",
    "- Formula: (x - mean) / standard deviation\n",
    "- **Use when:** Data is normally distributed or has outliers (more robust)\n",
    "\n",
    "### 4.3 Robust Scaling\n",
    "- Uses median and interquartile range\n",
    "- Less affected by outliers\n",
    "\n",
    "**When scaling is needed:**\n",
    "- Distance-based algorithms: KNN, K-means, SVM\n",
    "- Gradient descent algorithms: Neural networks, linear/logistic regression\n",
    "- Algorithms with regularization\n",
    "\n",
    "**When scaling is NOT needed:**\n",
    "- Tree-based models: Decision Trees, Random Forests, XGBoost\n",
    "\n",
    "### 5. Train-Validation-Test Split\n",
    "Split the dataset into three parts for model building and evaluation:\n",
    "\n",
    "- **Training set:** 60% - used to train the model\n",
    "- **Validation set:** 20% - used to tune hyperparameters and prevent overfitting\n",
    "- **Test set:** 20% - used for final model evaluation (untouched until the end)"
   ]
  },
  {
   "cell_type": "markdown",
   "id": "aec62e51",
   "metadata": {},
   "source": [
    "2. Machine Learning for Regression - Car price prediction project"
   ]
  },
  {
   "cell_type": "code",
   "execution_count": 231,
   "id": "5e0cfe83",
   "metadata": {},
   "outputs": [],
   "source": [
    "import pandas as pd \n",
    "import numpy as np "
   ]
  },
  {
   "cell_type": "markdown",
   "id": "0b74c634",
   "metadata": {},
   "source": [
    "    2.2 Data preparation\n",
    "        2.2.1 Loading and overview"
   ]
  },
  {
   "cell_type": "code",
   "execution_count": 232,
   "id": "5d42f323",
   "metadata": {},
   "outputs": [
    {
     "name": "stdout",
     "output_type": "stream",
     "text": [
      "          Make       Model  Year                Engine Fuel Type  Engine HP  \\\n",
      "0          BMW  1 Series M  2011     premium unleaded (required)      335.0   \n",
      "1          BMW    1 Series  2011     premium unleaded (required)      300.0   \n",
      "2          BMW    1 Series  2011     premium unleaded (required)      300.0   \n",
      "3          BMW    1 Series  2011     premium unleaded (required)      230.0   \n",
      "4          BMW    1 Series  2011     premium unleaded (required)      230.0   \n",
      "...        ...         ...   ...                             ...        ...   \n",
      "11909    Acura         ZDX  2012     premium unleaded (required)      300.0   \n",
      "11910    Acura         ZDX  2012     premium unleaded (required)      300.0   \n",
      "11911    Acura         ZDX  2012     premium unleaded (required)      300.0   \n",
      "11912    Acura         ZDX  2013  premium unleaded (recommended)      300.0   \n",
      "11913  Lincoln      Zephyr  2006                regular unleaded      221.0   \n",
      "\n",
      "       Engine Cylinders Transmission Type      Driven_Wheels  Number of Doors  \\\n",
      "0                   6.0            MANUAL   rear wheel drive              2.0   \n",
      "1                   6.0            MANUAL   rear wheel drive              2.0   \n",
      "2                   6.0            MANUAL   rear wheel drive              2.0   \n",
      "3                   6.0            MANUAL   rear wheel drive              2.0   \n",
      "4                   6.0            MANUAL   rear wheel drive              2.0   \n",
      "...                 ...               ...                ...              ...   \n",
      "11909               6.0         AUTOMATIC    all wheel drive              4.0   \n",
      "11910               6.0         AUTOMATIC    all wheel drive              4.0   \n",
      "11911               6.0         AUTOMATIC    all wheel drive              4.0   \n",
      "11912               6.0         AUTOMATIC    all wheel drive              4.0   \n",
      "11913               6.0         AUTOMATIC  front wheel drive              4.0   \n",
      "\n",
      "                             Market Category Vehicle Size  Vehicle Style  \\\n",
      "0      Factory Tuner,Luxury,High-Performance      Compact          Coupe   \n",
      "1                         Luxury,Performance      Compact    Convertible   \n",
      "2                    Luxury,High-Performance      Compact          Coupe   \n",
      "3                         Luxury,Performance      Compact          Coupe   \n",
      "4                                     Luxury      Compact    Convertible   \n",
      "...                                      ...          ...            ...   \n",
      "11909             Crossover,Hatchback,Luxury      Midsize  4dr Hatchback   \n",
      "11910             Crossover,Hatchback,Luxury      Midsize  4dr Hatchback   \n",
      "11911             Crossover,Hatchback,Luxury      Midsize  4dr Hatchback   \n",
      "11912             Crossover,Hatchback,Luxury      Midsize  4dr Hatchback   \n",
      "11913                                 Luxury      Midsize          Sedan   \n",
      "\n",
      "       highway MPG  city mpg  Popularity   MSRP  \n",
      "0               26        19        3916  46135  \n",
      "1               28        19        3916  40650  \n",
      "2               28        20        3916  36350  \n",
      "3               28        18        3916  29450  \n",
      "4               28        18        3916  34500  \n",
      "...            ...       ...         ...    ...  \n",
      "11909           23        16         204  46120  \n",
      "11910           23        16         204  56670  \n",
      "11911           23        16         204  50620  \n",
      "11912           23        16         204  50920  \n",
      "11913           26        17          61  28995  \n",
      "\n",
      "[11914 rows x 16 columns]\n"
     ]
    }
   ],
   "source": [
    "df= pd.read_csv('data.csv')\n",
    "print(df)"
   ]
  },
  {
   "cell_type": "code",
   "execution_count": 233,
   "id": "fe37079a",
   "metadata": {},
   "outputs": [
    {
     "data": {
      "text/html": [
       "<div>\n",
       "<style scoped>\n",
       "    .dataframe tbody tr th:only-of-type {\n",
       "        vertical-align: middle;\n",
       "    }\n",
       "\n",
       "    .dataframe tbody tr th {\n",
       "        vertical-align: top;\n",
       "    }\n",
       "\n",
       "    .dataframe thead th {\n",
       "        text-align: right;\n",
       "    }\n",
       "</style>\n",
       "<table border=\"1\" class=\"dataframe\">\n",
       "  <thead>\n",
       "    <tr style=\"text-align: right;\">\n",
       "      <th></th>\n",
       "      <th>Make</th>\n",
       "      <th>Model</th>\n",
       "      <th>Year</th>\n",
       "      <th>Engine Fuel Type</th>\n",
       "      <th>Engine HP</th>\n",
       "      <th>Engine Cylinders</th>\n",
       "      <th>Transmission Type</th>\n",
       "      <th>Driven_Wheels</th>\n",
       "      <th>Number of Doors</th>\n",
       "      <th>Market Category</th>\n",
       "      <th>Vehicle Size</th>\n",
       "      <th>Vehicle Style</th>\n",
       "      <th>highway MPG</th>\n",
       "      <th>city mpg</th>\n",
       "      <th>Popularity</th>\n",
       "      <th>MSRP</th>\n",
       "    </tr>\n",
       "  </thead>\n",
       "  <tbody>\n",
       "    <tr>\n",
       "      <th>0</th>\n",
       "      <td>BMW</td>\n",
       "      <td>1 Series M</td>\n",
       "      <td>2011</td>\n",
       "      <td>premium unleaded (required)</td>\n",
       "      <td>335.0</td>\n",
       "      <td>6.0</td>\n",
       "      <td>MANUAL</td>\n",
       "      <td>rear wheel drive</td>\n",
       "      <td>2.0</td>\n",
       "      <td>Factory Tuner,Luxury,High-Performance</td>\n",
       "      <td>Compact</td>\n",
       "      <td>Coupe</td>\n",
       "      <td>26</td>\n",
       "      <td>19</td>\n",
       "      <td>3916</td>\n",
       "      <td>46135</td>\n",
       "    </tr>\n",
       "    <tr>\n",
       "      <th>1</th>\n",
       "      <td>BMW</td>\n",
       "      <td>1 Series</td>\n",
       "      <td>2011</td>\n",
       "      <td>premium unleaded (required)</td>\n",
       "      <td>300.0</td>\n",
       "      <td>6.0</td>\n",
       "      <td>MANUAL</td>\n",
       "      <td>rear wheel drive</td>\n",
       "      <td>2.0</td>\n",
       "      <td>Luxury,Performance</td>\n",
       "      <td>Compact</td>\n",
       "      <td>Convertible</td>\n",
       "      <td>28</td>\n",
       "      <td>19</td>\n",
       "      <td>3916</td>\n",
       "      <td>40650</td>\n",
       "    </tr>\n",
       "    <tr>\n",
       "      <th>2</th>\n",
       "      <td>BMW</td>\n",
       "      <td>1 Series</td>\n",
       "      <td>2011</td>\n",
       "      <td>premium unleaded (required)</td>\n",
       "      <td>300.0</td>\n",
       "      <td>6.0</td>\n",
       "      <td>MANUAL</td>\n",
       "      <td>rear wheel drive</td>\n",
       "      <td>2.0</td>\n",
       "      <td>Luxury,High-Performance</td>\n",
       "      <td>Compact</td>\n",
       "      <td>Coupe</td>\n",
       "      <td>28</td>\n",
       "      <td>20</td>\n",
       "      <td>3916</td>\n",
       "      <td>36350</td>\n",
       "    </tr>\n",
       "    <tr>\n",
       "      <th>3</th>\n",
       "      <td>BMW</td>\n",
       "      <td>1 Series</td>\n",
       "      <td>2011</td>\n",
       "      <td>premium unleaded (required)</td>\n",
       "      <td>230.0</td>\n",
       "      <td>6.0</td>\n",
       "      <td>MANUAL</td>\n",
       "      <td>rear wheel drive</td>\n",
       "      <td>2.0</td>\n",
       "      <td>Luxury,Performance</td>\n",
       "      <td>Compact</td>\n",
       "      <td>Coupe</td>\n",
       "      <td>28</td>\n",
       "      <td>18</td>\n",
       "      <td>3916</td>\n",
       "      <td>29450</td>\n",
       "    </tr>\n",
       "    <tr>\n",
       "      <th>4</th>\n",
       "      <td>BMW</td>\n",
       "      <td>1 Series</td>\n",
       "      <td>2011</td>\n",
       "      <td>premium unleaded (required)</td>\n",
       "      <td>230.0</td>\n",
       "      <td>6.0</td>\n",
       "      <td>MANUAL</td>\n",
       "      <td>rear wheel drive</td>\n",
       "      <td>2.0</td>\n",
       "      <td>Luxury</td>\n",
       "      <td>Compact</td>\n",
       "      <td>Convertible</td>\n",
       "      <td>28</td>\n",
       "      <td>18</td>\n",
       "      <td>3916</td>\n",
       "      <td>34500</td>\n",
       "    </tr>\n",
       "  </tbody>\n",
       "</table>\n",
       "</div>"
      ],
      "text/plain": [
       "  Make       Model  Year             Engine Fuel Type  Engine HP  \\\n",
       "0  BMW  1 Series M  2011  premium unleaded (required)      335.0   \n",
       "1  BMW    1 Series  2011  premium unleaded (required)      300.0   \n",
       "2  BMW    1 Series  2011  premium unleaded (required)      300.0   \n",
       "3  BMW    1 Series  2011  premium unleaded (required)      230.0   \n",
       "4  BMW    1 Series  2011  premium unleaded (required)      230.0   \n",
       "\n",
       "   Engine Cylinders Transmission Type     Driven_Wheels  Number of Doors  \\\n",
       "0               6.0            MANUAL  rear wheel drive              2.0   \n",
       "1               6.0            MANUAL  rear wheel drive              2.0   \n",
       "2               6.0            MANUAL  rear wheel drive              2.0   \n",
       "3               6.0            MANUAL  rear wheel drive              2.0   \n",
       "4               6.0            MANUAL  rear wheel drive              2.0   \n",
       "\n",
       "                         Market Category Vehicle Size Vehicle Style  \\\n",
       "0  Factory Tuner,Luxury,High-Performance      Compact         Coupe   \n",
       "1                     Luxury,Performance      Compact   Convertible   \n",
       "2                Luxury,High-Performance      Compact         Coupe   \n",
       "3                     Luxury,Performance      Compact         Coupe   \n",
       "4                                 Luxury      Compact   Convertible   \n",
       "\n",
       "   highway MPG  city mpg  Popularity   MSRP  \n",
       "0           26        19        3916  46135  \n",
       "1           28        19        3916  40650  \n",
       "2           28        20        3916  36350  \n",
       "3           28        18        3916  29450  \n",
       "4           28        18        3916  34500  "
      ]
     },
     "execution_count": 233,
     "metadata": {},
     "output_type": "execute_result"
    }
   ],
   "source": [
    "df.head()"
   ]
  },
  {
   "cell_type": "markdown",
   "id": "acafc75a",
   "metadata": {},
   "source": [
    "we need to make all column names consistent in such a way that there is no space between the words and the underscore is also consistent for all columns. Also, all making them all either capital or small letter. "
   ]
  },
  {
   "cell_type": "code",
   "execution_count": 234,
   "id": "6c65222e",
   "metadata": {},
   "outputs": [
    {
     "data": {
      "text/plain": [
       "0           MANUAL\n",
       "1           MANUAL\n",
       "2           MANUAL\n",
       "3           MANUAL\n",
       "4           MANUAL\n",
       "           ...    \n",
       "11909    AUTOMATIC\n",
       "11910    AUTOMATIC\n",
       "11911    AUTOMATIC\n",
       "11912    AUTOMATIC\n",
       "11913    AUTOMATIC\n",
       "Name: Transmission Type, Length: 11914, dtype: object"
      ]
     },
     "execution_count": 234,
     "metadata": {},
     "output_type": "execute_result"
    }
   ],
   "source": [
    "# for example, this works\n",
    "\n",
    "df['Transmission Type']"
   ]
  },
  {
   "cell_type": "code",
   "execution_count": 235,
   "id": "6c9af1cd",
   "metadata": {},
   "outputs": [],
   "source": [
    "# this doesn't work because of space.\n",
    "# df.Transmission Type"
   ]
  },
  {
   "cell_type": "code",
   "execution_count": 236,
   "id": "784afa9e",
   "metadata": {},
   "outputs": [
    {
     "data": {
      "text/html": [
       "<div>\n",
       "<style scoped>\n",
       "    .dataframe tbody tr th:only-of-type {\n",
       "        vertical-align: middle;\n",
       "    }\n",
       "\n",
       "    .dataframe tbody tr th {\n",
       "        vertical-align: top;\n",
       "    }\n",
       "\n",
       "    .dataframe thead th {\n",
       "        text-align: right;\n",
       "    }\n",
       "</style>\n",
       "<table border=\"1\" class=\"dataframe\">\n",
       "  <thead>\n",
       "    <tr style=\"text-align: right;\">\n",
       "      <th></th>\n",
       "      <th>make</th>\n",
       "      <th>model</th>\n",
       "      <th>year</th>\n",
       "      <th>engine_fuel_type</th>\n",
       "      <th>engine_hp</th>\n",
       "      <th>engine_cylinders</th>\n",
       "      <th>transmission_type</th>\n",
       "      <th>driven_wheels</th>\n",
       "      <th>number_of_doors</th>\n",
       "      <th>market_category</th>\n",
       "      <th>vehicle_size</th>\n",
       "      <th>vehicle_style</th>\n",
       "      <th>highway_mpg</th>\n",
       "      <th>city_mpg</th>\n",
       "      <th>popularity</th>\n",
       "      <th>msrp</th>\n",
       "    </tr>\n",
       "  </thead>\n",
       "  <tbody>\n",
       "    <tr>\n",
       "      <th>0</th>\n",
       "      <td>BMW</td>\n",
       "      <td>1 Series M</td>\n",
       "      <td>2011</td>\n",
       "      <td>premium unleaded (required)</td>\n",
       "      <td>335.0</td>\n",
       "      <td>6.0</td>\n",
       "      <td>MANUAL</td>\n",
       "      <td>rear wheel drive</td>\n",
       "      <td>2.0</td>\n",
       "      <td>Factory Tuner,Luxury,High-Performance</td>\n",
       "      <td>Compact</td>\n",
       "      <td>Coupe</td>\n",
       "      <td>26</td>\n",
       "      <td>19</td>\n",
       "      <td>3916</td>\n",
       "      <td>46135</td>\n",
       "    </tr>\n",
       "    <tr>\n",
       "      <th>1</th>\n",
       "      <td>BMW</td>\n",
       "      <td>1 Series</td>\n",
       "      <td>2011</td>\n",
       "      <td>premium unleaded (required)</td>\n",
       "      <td>300.0</td>\n",
       "      <td>6.0</td>\n",
       "      <td>MANUAL</td>\n",
       "      <td>rear wheel drive</td>\n",
       "      <td>2.0</td>\n",
       "      <td>Luxury,Performance</td>\n",
       "      <td>Compact</td>\n",
       "      <td>Convertible</td>\n",
       "      <td>28</td>\n",
       "      <td>19</td>\n",
       "      <td>3916</td>\n",
       "      <td>40650</td>\n",
       "    </tr>\n",
       "    <tr>\n",
       "      <th>2</th>\n",
       "      <td>BMW</td>\n",
       "      <td>1 Series</td>\n",
       "      <td>2011</td>\n",
       "      <td>premium unleaded (required)</td>\n",
       "      <td>300.0</td>\n",
       "      <td>6.0</td>\n",
       "      <td>MANUAL</td>\n",
       "      <td>rear wheel drive</td>\n",
       "      <td>2.0</td>\n",
       "      <td>Luxury,High-Performance</td>\n",
       "      <td>Compact</td>\n",
       "      <td>Coupe</td>\n",
       "      <td>28</td>\n",
       "      <td>20</td>\n",
       "      <td>3916</td>\n",
       "      <td>36350</td>\n",
       "    </tr>\n",
       "    <tr>\n",
       "      <th>3</th>\n",
       "      <td>BMW</td>\n",
       "      <td>1 Series</td>\n",
       "      <td>2011</td>\n",
       "      <td>premium unleaded (required)</td>\n",
       "      <td>230.0</td>\n",
       "      <td>6.0</td>\n",
       "      <td>MANUAL</td>\n",
       "      <td>rear wheel drive</td>\n",
       "      <td>2.0</td>\n",
       "      <td>Luxury,Performance</td>\n",
       "      <td>Compact</td>\n",
       "      <td>Coupe</td>\n",
       "      <td>28</td>\n",
       "      <td>18</td>\n",
       "      <td>3916</td>\n",
       "      <td>29450</td>\n",
       "    </tr>\n",
       "    <tr>\n",
       "      <th>4</th>\n",
       "      <td>BMW</td>\n",
       "      <td>1 Series</td>\n",
       "      <td>2011</td>\n",
       "      <td>premium unleaded (required)</td>\n",
       "      <td>230.0</td>\n",
       "      <td>6.0</td>\n",
       "      <td>MANUAL</td>\n",
       "      <td>rear wheel drive</td>\n",
       "      <td>2.0</td>\n",
       "      <td>Luxury</td>\n",
       "      <td>Compact</td>\n",
       "      <td>Convertible</td>\n",
       "      <td>28</td>\n",
       "      <td>18</td>\n",
       "      <td>3916</td>\n",
       "      <td>34500</td>\n",
       "    </tr>\n",
       "  </tbody>\n",
       "</table>\n",
       "</div>"
      ],
      "text/plain": [
       "  make       model  year             engine_fuel_type  engine_hp  \\\n",
       "0  BMW  1 Series M  2011  premium unleaded (required)      335.0   \n",
       "1  BMW    1 Series  2011  premium unleaded (required)      300.0   \n",
       "2  BMW    1 Series  2011  premium unleaded (required)      300.0   \n",
       "3  BMW    1 Series  2011  premium unleaded (required)      230.0   \n",
       "4  BMW    1 Series  2011  premium unleaded (required)      230.0   \n",
       "\n",
       "   engine_cylinders transmission_type     driven_wheels  number_of_doors  \\\n",
       "0               6.0            MANUAL  rear wheel drive              2.0   \n",
       "1               6.0            MANUAL  rear wheel drive              2.0   \n",
       "2               6.0            MANUAL  rear wheel drive              2.0   \n",
       "3               6.0            MANUAL  rear wheel drive              2.0   \n",
       "4               6.0            MANUAL  rear wheel drive              2.0   \n",
       "\n",
       "                         market_category vehicle_size vehicle_style  \\\n",
       "0  Factory Tuner,Luxury,High-Performance      Compact         Coupe   \n",
       "1                     Luxury,Performance      Compact   Convertible   \n",
       "2                Luxury,High-Performance      Compact         Coupe   \n",
       "3                     Luxury,Performance      Compact         Coupe   \n",
       "4                                 Luxury      Compact   Convertible   \n",
       "\n",
       "   highway_mpg  city_mpg  popularity   msrp  \n",
       "0           26        19        3916  46135  \n",
       "1           28        19        3916  40650  \n",
       "2           28        20        3916  36350  \n",
       "3           28        18        3916  29450  \n",
       "4           28        18        3916  34500  "
      ]
     },
     "execution_count": 236,
     "metadata": {},
     "output_type": "execute_result"
    }
   ],
   "source": [
    "df.columns = df.columns.str.lower().str.replace(' ','_')\n",
    "df.head()"
   ]
  },
  {
   "cell_type": "code",
   "execution_count": 237,
   "id": "69957c12",
   "metadata": {},
   "outputs": [
    {
     "name": "stdout",
     "output_type": "stream",
     "text": [
      "object\n",
      "object\n",
      "int64\n",
      "object\n",
      "float64\n",
      "make                 object\n",
      "model                object\n",
      "engine_fuel_type     object\n",
      "transmission_type    object\n",
      "driven_wheels        object\n",
      "market_category      object\n",
      "vehicle_size         object\n",
      "vehicle_style        object\n",
      "dtype: object\n",
      "year           int64\n",
      "highway_mpg    int64\n",
      "city_mpg       int64\n",
      "popularity     int64\n",
      "msrp           int64\n",
      "dtype: object\n"
     ]
    }
   ],
   "source": [
    "print(df['make'].dtypes)\n",
    "print(df['model'].dtypes)\n",
    "print(df['year'].dtypes)\n",
    "print(df['engine_fuel_type'].dtypes)\n",
    "print(df['engine_hp'].dtypes)\n",
    "\n",
    "# to select only the objects\n",
    "print(df.dtypes[df.dtypes == 'object'])\n",
    "\n",
    "# to select only the int\n",
    "print(df.dtypes[df.dtypes == 'int64'])"
   ]
  },
  {
   "cell_type": "code",
   "execution_count": 238,
   "id": "7098903b",
   "metadata": {},
   "outputs": [
    {
     "data": {
      "text/plain": [
       "['make',\n",
       " 'model',\n",
       " 'engine_fuel_type',\n",
       " 'transmission_type',\n",
       " 'driven_wheels',\n",
       " 'market_category',\n",
       " 'vehicle_size',\n",
       " 'vehicle_style']"
      ]
     },
     "execution_count": 238,
     "metadata": {},
     "output_type": "execute_result"
    }
   ],
   "source": [
    "# we're interested in \"objects\", so let's get access to the index of those and convert them to a list\n",
    "strings = list(df.dtypes[df.dtypes == 'object'].index)\n",
    "strings"
   ]
  },
  {
   "cell_type": "code",
   "execution_count": 239,
   "id": "716045ce",
   "metadata": {},
   "outputs": [
    {
     "data": {
      "text/html": [
       "<div>\n",
       "<style scoped>\n",
       "    .dataframe tbody tr th:only-of-type {\n",
       "        vertical-align: middle;\n",
       "    }\n",
       "\n",
       "    .dataframe tbody tr th {\n",
       "        vertical-align: top;\n",
       "    }\n",
       "\n",
       "    .dataframe thead th {\n",
       "        text-align: right;\n",
       "    }\n",
       "</style>\n",
       "<table border=\"1\" class=\"dataframe\">\n",
       "  <thead>\n",
       "    <tr style=\"text-align: right;\">\n",
       "      <th></th>\n",
       "      <th>make</th>\n",
       "      <th>model</th>\n",
       "      <th>year</th>\n",
       "      <th>engine_fuel_type</th>\n",
       "      <th>engine_hp</th>\n",
       "      <th>engine_cylinders</th>\n",
       "      <th>transmission_type</th>\n",
       "      <th>driven_wheels</th>\n",
       "      <th>number_of_doors</th>\n",
       "      <th>market_category</th>\n",
       "      <th>vehicle_size</th>\n",
       "      <th>vehicle_style</th>\n",
       "      <th>highway_mpg</th>\n",
       "      <th>city_mpg</th>\n",
       "      <th>popularity</th>\n",
       "      <th>msrp</th>\n",
       "    </tr>\n",
       "  </thead>\n",
       "  <tbody>\n",
       "    <tr>\n",
       "      <th>0</th>\n",
       "      <td>bmw</td>\n",
       "      <td>1_series_m</td>\n",
       "      <td>2011</td>\n",
       "      <td>premium_unleaded_(required)</td>\n",
       "      <td>335.0</td>\n",
       "      <td>6.0</td>\n",
       "      <td>manual</td>\n",
       "      <td>rear_wheel_drive</td>\n",
       "      <td>2.0</td>\n",
       "      <td>factory_tuner,luxury,high-performance</td>\n",
       "      <td>compact</td>\n",
       "      <td>coupe</td>\n",
       "      <td>26</td>\n",
       "      <td>19</td>\n",
       "      <td>3916</td>\n",
       "      <td>46135</td>\n",
       "    </tr>\n",
       "    <tr>\n",
       "      <th>1</th>\n",
       "      <td>bmw</td>\n",
       "      <td>1_series</td>\n",
       "      <td>2011</td>\n",
       "      <td>premium_unleaded_(required)</td>\n",
       "      <td>300.0</td>\n",
       "      <td>6.0</td>\n",
       "      <td>manual</td>\n",
       "      <td>rear_wheel_drive</td>\n",
       "      <td>2.0</td>\n",
       "      <td>luxury,performance</td>\n",
       "      <td>compact</td>\n",
       "      <td>convertible</td>\n",
       "      <td>28</td>\n",
       "      <td>19</td>\n",
       "      <td>3916</td>\n",
       "      <td>40650</td>\n",
       "    </tr>\n",
       "    <tr>\n",
       "      <th>2</th>\n",
       "      <td>bmw</td>\n",
       "      <td>1_series</td>\n",
       "      <td>2011</td>\n",
       "      <td>premium_unleaded_(required)</td>\n",
       "      <td>300.0</td>\n",
       "      <td>6.0</td>\n",
       "      <td>manual</td>\n",
       "      <td>rear_wheel_drive</td>\n",
       "      <td>2.0</td>\n",
       "      <td>luxury,high-performance</td>\n",
       "      <td>compact</td>\n",
       "      <td>coupe</td>\n",
       "      <td>28</td>\n",
       "      <td>20</td>\n",
       "      <td>3916</td>\n",
       "      <td>36350</td>\n",
       "    </tr>\n",
       "    <tr>\n",
       "      <th>3</th>\n",
       "      <td>bmw</td>\n",
       "      <td>1_series</td>\n",
       "      <td>2011</td>\n",
       "      <td>premium_unleaded_(required)</td>\n",
       "      <td>230.0</td>\n",
       "      <td>6.0</td>\n",
       "      <td>manual</td>\n",
       "      <td>rear_wheel_drive</td>\n",
       "      <td>2.0</td>\n",
       "      <td>luxury,performance</td>\n",
       "      <td>compact</td>\n",
       "      <td>coupe</td>\n",
       "      <td>28</td>\n",
       "      <td>18</td>\n",
       "      <td>3916</td>\n",
       "      <td>29450</td>\n",
       "    </tr>\n",
       "    <tr>\n",
       "      <th>4</th>\n",
       "      <td>bmw</td>\n",
       "      <td>1_series</td>\n",
       "      <td>2011</td>\n",
       "      <td>premium_unleaded_(required)</td>\n",
       "      <td>230.0</td>\n",
       "      <td>6.0</td>\n",
       "      <td>manual</td>\n",
       "      <td>rear_wheel_drive</td>\n",
       "      <td>2.0</td>\n",
       "      <td>luxury</td>\n",
       "      <td>compact</td>\n",
       "      <td>convertible</td>\n",
       "      <td>28</td>\n",
       "      <td>18</td>\n",
       "      <td>3916</td>\n",
       "      <td>34500</td>\n",
       "    </tr>\n",
       "  </tbody>\n",
       "</table>\n",
       "</div>"
      ],
      "text/plain": [
       "  make       model  year             engine_fuel_type  engine_hp  \\\n",
       "0  bmw  1_series_m  2011  premium_unleaded_(required)      335.0   \n",
       "1  bmw    1_series  2011  premium_unleaded_(required)      300.0   \n",
       "2  bmw    1_series  2011  premium_unleaded_(required)      300.0   \n",
       "3  bmw    1_series  2011  premium_unleaded_(required)      230.0   \n",
       "4  bmw    1_series  2011  premium_unleaded_(required)      230.0   \n",
       "\n",
       "   engine_cylinders transmission_type     driven_wheels  number_of_doors  \\\n",
       "0               6.0            manual  rear_wheel_drive              2.0   \n",
       "1               6.0            manual  rear_wheel_drive              2.0   \n",
       "2               6.0            manual  rear_wheel_drive              2.0   \n",
       "3               6.0            manual  rear_wheel_drive              2.0   \n",
       "4               6.0            manual  rear_wheel_drive              2.0   \n",
       "\n",
       "                         market_category vehicle_size vehicle_style  \\\n",
       "0  factory_tuner,luxury,high-performance      compact         coupe   \n",
       "1                     luxury,performance      compact   convertible   \n",
       "2                luxury,high-performance      compact         coupe   \n",
       "3                     luxury,performance      compact         coupe   \n",
       "4                                 luxury      compact   convertible   \n",
       "\n",
       "   highway_mpg  city_mpg  popularity   msrp  \n",
       "0           26        19        3916  46135  \n",
       "1           28        19        3916  40650  \n",
       "2           28        20        3916  36350  \n",
       "3           28        18        3916  29450  \n",
       "4           28        18        3916  34500  "
      ]
     },
     "execution_count": 239,
     "metadata": {},
     "output_type": "execute_result"
    }
   ],
   "source": [
    "# now let's make consistent column names for these objects as well\n",
    "\n",
    "for col in strings:\n",
    "    df[col] = df[col].str.lower().str.replace(' ','_')\n",
    "\n",
    "df.head()    "
   ]
  },
  {
   "cell_type": "markdown",
   "id": "5f1a8e1c",
   "metadata": {},
   "source": [
    "2.3 Exploratory data analysis (EDA)"
   ]
  },
  {
   "cell_type": "markdown",
   "id": "f59779cb",
   "metadata": {},
   "source": [
    "### What is EDA?\n",
    "EDA is exploring your data to understand it better before building models. It's like getting to know your data first!\n",
    "\n",
    "### Why Do EDA?\n",
    "- Find patterns and trends\n",
    "- Understand relationships between variables\n",
    "- Spot problems in the data\n",
    "- Make better decisions about next steps\n",
    "\n",
    "### Three Main Parts of EDA:\n",
    "\n",
    "#### 1. Summary Statistics\n",
    "Calculate basic numbers to understand your data:\n",
    "- **Mean** - average value\n",
    "- **Median** - middle value\n",
    "- **Standard deviation** - how spread out the data is\n",
    "\n",
    "These help you spot outliers and understand data distribution.\n",
    "\n",
    "#### 2. Visualizations\n",
    "Create graphs to see patterns visually:\n",
    "- **Histograms** - show data distribution\n",
    "- **Scatter plots** - show relationships between two variables\n",
    "- **Box plots** - show spread and outliers\n",
    "\n",
    "Visualizations make it easier to spot patterns you might miss in numbers alone.\n",
    "\n",
    "#### 3. Data Cleaning\n",
    "Fix problems in your dataset:\n",
    "- Handle missing values (fill them in or remove them)\n",
    "- Deal with outliers (unusual values)\n",
    "- Fix inconsistencies or errors\n",
    "\n",
    "### Key Point:\n",
    "EDA is **iterative** - you keep exploring as you learn more about your data. Each discovery may lead to new questions!\n",
    "\n",
    "### Bottom Line:\n",
    "EDA is the foundation of any data project. It helps you understand your data before you analyze it or build models."
   ]
  },
  {
   "cell_type": "code",
   "execution_count": 240,
   "id": "16b8c7a7",
   "metadata": {},
   "outputs": [
    {
     "name": "stdout",
     "output_type": "stream",
     "text": [
      "make\n",
      "['bmw' 'audi' 'fiat' 'mercedes-benz' 'chrysler']\n",
      "48\n",
      "model\n",
      "['1_series_m' '1_series' '100' '124_spider' '190-class']\n",
      "914\n",
      "year\n",
      "[2011 2012 2013 1992 1993]\n",
      "28\n",
      "engine_fuel_type\n",
      "['premium_unleaded_(required)' 'regular_unleaded'\n",
      " 'premium_unleaded_(recommended)' 'flex-fuel_(unleaded/e85)' 'diesel']\n",
      "10\n",
      "engine_hp\n",
      "[335. 300. 230. 320. 172.]\n",
      "356\n",
      "engine_cylinders\n",
      "[ 6.  4.  5.  8. 12.]\n",
      "9\n",
      "transmission_type\n",
      "['manual' 'automatic' 'automated_manual' 'direct_drive' 'unknown']\n",
      "5\n",
      "driven_wheels\n",
      "['rear_wheel_drive' 'front_wheel_drive' 'all_wheel_drive'\n",
      " 'four_wheel_drive']\n",
      "4\n",
      "number_of_doors\n",
      "[ 2.  4.  3. nan]\n",
      "3\n",
      "market_category\n",
      "['factory_tuner,luxury,high-performance' 'luxury,performance'\n",
      " 'luxury,high-performance' 'luxury' 'performance']\n",
      "71\n",
      "vehicle_size\n",
      "['compact' 'midsize' 'large']\n",
      "3\n",
      "vehicle_style\n",
      "['coupe' 'convertible' 'sedan' 'wagon' '4dr_hatchback']\n",
      "16\n",
      "highway_mpg\n",
      "[26 28 27 25 24]\n",
      "59\n",
      "city_mpg\n",
      "[19 20 18 17 16]\n",
      "69\n",
      "popularity\n",
      "[3916 3105  819  617 1013]\n",
      "48\n",
      "msrp\n",
      "[46135 40650 36350 29450 34500]\n",
      "6049\n"
     ]
    }
   ],
   "source": [
    "# EDA on car prediction price dataset\n",
    "for col in df.columns:\n",
    "    print(col)\n",
    "    print(df[col].unique()[:5])\n",
    "    print(df[col].nunique())\n"
   ]
  },
  {
   "cell_type": "code",
   "execution_count": 241,
   "id": "b8cb4831",
   "metadata": {},
   "outputs": [
    {
     "name": "stdout",
     "output_type": "stream",
     "text": [
      "number of all unique values:  6049\n"
     ]
    }
   ],
   "source": [
    "# all unique values from all columns\n",
    "print(\"number of all unique values: \", df[col].nunique())"
   ]
  },
  {
   "cell_type": "code",
   "execution_count": 242,
   "id": "1b792a54",
   "metadata": {},
   "outputs": [],
   "source": [
    "# distribution of prize\n",
    "\n",
    "# For plotting we use two libraries\n",
    "import matplotlib.pyplot as plt\n",
    "import seaborn as sns\n",
    "\n",
    "# to dispaly the  plots in notebooks\n",
    "%matplotlib inline"
   ]
  },
  {
   "cell_type": "code",
   "execution_count": 243,
   "id": "6fee6996",
   "metadata": {},
   "outputs": [
    {
     "data": {
      "text/plain": [
       "12"
      ]
     },
     "execution_count": 243,
     "metadata": {},
     "output_type": "execute_result"
    },
    {
     "data": {
      "image/png": "[encoded data removed]",
      "text/plain": [
       "<Figure size 640x480 with 1 Axes>"
      ]
     },
     "metadata": {},
     "output_type": "display_data"
    }
   ],
   "source": [
    "sns.histplot(df.msrp, bins = 50)\n",
    "10^6\n",
    "# 1e6 = 10**6 = 1,000,000"
   ]
  },
  {
   "cell_type": "markdown",
   "id": "800e6414",
   "metadata": {},
   "source": [
    " this is a long-tail distribution (many prices in a small range, but a few prices in a wide range). "
   ]
  },
  {
   "cell_type": "code",
   "execution_count": 244,
   "id": "eda264e6",
   "metadata": {},
   "outputs": [
    {
     "data": {
      "text/plain": [
       "1000000"
      ]
     },
     "execution_count": 244,
     "metadata": {},
     "output_type": "execute_result"
    }
   ],
   "source": [
    "10**6"
   ]
  },
  {
   "cell_type": "code",
   "execution_count": 245,
   "id": "9ff9e67c",
   "metadata": {},
   "outputs": [
    {
     "data": {
      "text/plain": [
       "<Axes: xlabel='msrp', ylabel='Count'>"
      ]
     },
     "execution_count": 245,
     "metadata": {},
     "output_type": "execute_result"
    },
    {
     "data": {
      "image/png": "[encoded data removed]",
      "text/plain": [
       "<Figure size 640x480 with 1 Axes>"
      ]
     },
     "metadata": {},
     "output_type": "display_data"
    }
   ],
   "source": [
    "sns.histplot(df.msrp[df.msrp < 100000], bins=50)"
   ]
  },
  {
   "cell_type": "markdown",
   "id": "52b3c54c",
   "metadata": {},
   "source": [
    "#### Handling Skewed Distributions (Long Tail Problem)\n",
    "\n",
    "**Problem:** Distributions with long tails and sharp peaks confuse ML models because:\n",
    "- The data is highly skewed\n",
    "- Models struggle to learn patterns effectively\n",
    "- Predictions can be inaccurate\n",
    "\n",
    "**Solution: Log Transformation**\n",
    "- Apply logarithm to the variable (e.g., price)\n",
    "- This compresses the long tail\n",
    "- Results in more compact, normalized values\n",
    "- Makes the distribution more suitable for ML models"
   ]
  },
  {
   "cell_type": "code",
   "execution_count": 246,
   "id": "5b94d7a5",
   "metadata": {},
   "outputs": [
    {
     "data": {
      "text/plain": [
       "<Axes: xlabel='msrp', ylabel='Count'>"
      ]
     },
     "execution_count": 246,
     "metadata": {},
     "output_type": "execute_result"
    },
    {
     "data": {
      "image/png": "[encoded data removed]",
      "text/plain": [
       "<Figure size 640x480 with 1 Axes>"
      ]
     },
     "metadata": {},
     "output_type": "display_data"
    }
   ],
   "source": [
    "# Transform price column\n",
    "price_logs = np.log1p(df.msrp)\n",
    "\n",
    "# Visualize the transformed distribution\n",
    "sns.histplot(price_logs, bins=50)"
   ]
  },
  {
   "cell_type": "code",
   "execution_count": 247,
   "id": "bfb18fa4",
   "metadata": {},
   "outputs": [
    {
     "data": {
      "text/plain": [
       "make                    0\n",
       "model                   0\n",
       "year                    0\n",
       "engine_fuel_type        3\n",
       "engine_hp              69\n",
       "engine_cylinders       30\n",
       "transmission_type       0\n",
       "driven_wheels           0\n",
       "number_of_doors         6\n",
       "market_category      3742\n",
       "vehicle_size            0\n",
       "vehicle_style           0\n",
       "highway_mpg             0\n",
       "city_mpg                0\n",
       "popularity              0\n",
       "msrp                    0\n",
       "dtype: int64"
      ]
     },
     "execution_count": 247,
     "metadata": {},
     "output_type": "execute_result"
    }
   ],
   "source": [
    "# checking missing values\n",
    "df.isnull().sum()"
   ]
  },
  {
   "cell_type": "markdown",
   "id": "4714ac83",
   "metadata": {},
   "source": [
    "2.4 Setting up the validation framework\n",
    "\n",
    "Train-Validation-Test Split\n",
    "\n",
    " Why Split the Data?\n",
    "Split the dataset into three parts to properly evaluate model performance:\n",
    "\n",
    "- **Training set (60%):** Train the model\n",
    "- **Validation set (20%):** Tune hyperparameters and check performance during development\n",
    "- **Test set (20%):** Final evaluation only (use rarely, keep untouched!)"
   ]
  },
  {
   "cell_type": "markdown",
   "id": "71259b86",
   "metadata": {},
   "source": [
    "### How to Split: Step-by-Step\n",
    "\n",
    "### *Step 1: Calculate split sizes*"
   ]
  },
  {
   "cell_type": "code",
   "execution_count": 248,
   "id": "69e6e257",
   "metadata": {},
   "outputs": [
    {
     "name": "stdout",
     "output_type": "stream",
     "text": [
      "total records are: 11914\n",
      "total records in validation & test datasets are: 2382 2382\n",
      "total records in tarining datasets are: 7150\n",
      "verify the total equal 11914\n"
     ]
    }
   ],
   "source": [
    "\n",
    "\n",
    "# Get total number of records\n",
    "n = len(df) \n",
    "print(\"total records are:\",n)\n",
    "\n",
    "# Calculate 20% for validation and test\n",
    "n_val = n_test = int(n * 0.2)  # Each: 2,382 records\n",
    "\n",
    "print(\"total records in validation & test datasets are:\",n_val, n_test)\n",
    "\n",
    "# Remaining 60% for training\n",
    "n_train = n - n_val - n_test \n",
    "print(\"total records in tarining datasets are:\",n_train)\n",
    "\n",
    "# Verify: should equal total\n",
    "n_val + n_test + n_train  \n",
    "print(\"verify the total equal\", n_val + n_test + n_train )"
   ]
  },
  {
   "cell_type": "markdown",
   "id": "d84249eb",
   "metadata": {},
   "source": [
    "### *Step 2: Split the dataframe*"
   ]
  },
  {
   "cell_type": "code",
   "execution_count": 249,
   "id": "abddfcc9",
   "metadata": {},
   "outputs": [],
   "source": [
    "n = len(df)\n",
    "\n",
    "n_val = int(n * 0.2)\n",
    "n_test = int(n * 0.2)\n",
    "n_train = n - n_val - n_test"
   ]
  },
  {
   "cell_type": "code",
   "execution_count": 250,
   "id": "2a6a94a6",
   "metadata": {},
   "outputs": [],
   "source": [
    "df_train = df.iloc[:n_train]\n",
    "df_val = df.iloc[n_train:n_train + n_val]\n",
    "df_test = df.iloc[n_train + n_val:]"
   ]
  },
  {
   "cell_type": "code",
   "execution_count": 251,
   "id": "eb77c13b",
   "metadata": {},
   "outputs": [],
   "source": [
    "# .iloc is used to select rows by their position/index number (like selecting items from a list).\n",
    "\n",
    "# Understanding the Slicing\n",
    "# Let's use a simple example with 10 rows to make it clear:\n",
    "\n",
    "# Imagine we have 10 rows total\n",
    "#n = 10\n",
    "#n_train = 6   # 60% = 6 rows\n",
    "#n_val = 2     # 20% = 2 rows  \n",
    "#n_test = 2    # 20% = 2 rows\n",
    "\n",
    "# Our dataframe looks like this:\n",
    "# Index: 0, 1, 2, 3, 4, 5, 6, 7, 8, 9"
   ]
  },
  {
   "cell_type": "code",
   "execution_count": 252,
   "id": "51a066d9",
   "metadata": {},
   "outputs": [],
   "source": [
    "# Training set\n",
    "#df_train = df.iloc[:n_train]\n",
    "# Same as: df.iloc[:6]\n",
    "# Means: Take rows from start (0) up to position 6 (NOT including 6)\n",
    "# Result: Rows 0, 1, 2, 3, 4, 5 (6 rows total)"
   ]
  },
  {
   "cell_type": "code",
   "execution_count": 253,
   "id": "7fda20ff",
   "metadata": {},
   "outputs": [],
   "source": [
    "# validation set\n",
    "#df_val = df.iloc[n_train:n_train + n_val]\n",
    "# Same as: df.iloc[6:6+2]\n",
    "# Same as: df.iloc[6:8]\n",
    "# Means: Take rows from position 6 up to position 8 (NOT including 8)\n",
    "# Result: Rows 6, 7 (2 rows total)"
   ]
  },
  {
   "cell_type": "code",
   "execution_count": 254,
   "id": "89a6c8cf",
   "metadata": {},
   "outputs": [],
   "source": [
    "# test set\n",
    "#df_test = df.iloc[n_train + n_val:]\n",
    "# Same as: df.iloc[6+2:]\n",
    "# Same as: df.iloc[8:]\n",
    "# Means: Take rows from position 8 to the end\n",
    "# Result: Rows 8, 9 (2 rows total)"
   ]
  },
  {
   "cell_type": "markdown",
   "id": "6175864c",
   "metadata": {},
   "source": [
    "### *Step 3: Shuffle the indexes*"
   ]
  },
  {
   "cell_type": "markdown",
   "id": "0fb66ceb",
   "metadata": {},
   "source": [
    "But the data is sequnetial. This issue arises when there in an order in the dataset. But this data can be shuffeled by shuffling the index of he datasets."
   ]
  },
  {
   "cell_type": "code",
   "execution_count": 255,
   "id": "f1762b42",
   "metadata": {},
   "outputs": [
    {
     "data": {
      "text/plain": [
       "array([5551, 7760, 6792, ..., 6612, 7721, 6848], shape=(11914,))"
      ]
     },
     "execution_count": 255,
     "metadata": {},
     "output_type": "execute_result"
    }
   ],
   "source": [
    "idx = np.arange(n)\n",
    "idx\n",
    "#np.random.seed(2)\n",
    "np.random.shuffle(idx)\n",
    "idx"
   ]
  },
  {
   "cell_type": "code",
   "execution_count": 256,
   "id": "a3d743fb",
   "metadata": {},
   "outputs": [],
   "source": [
    "df_train = df.iloc[idx[:n_train]]\n",
    "df_val = df.iloc[idx[n_train:n_train+n_val]]\n",
    "df_test = df.iloc[idx[n_train+n_val:]]\n"
   ]
  },
  {
   "cell_type": "code",
   "execution_count": 257,
   "id": "a6088811",
   "metadata": {},
   "outputs": [
    {
     "data": {
      "text/html": [
       "<div>\n",
       "<style scoped>\n",
       "    .dataframe tbody tr th:only-of-type {\n",
       "        vertical-align: middle;\n",
       "    }\n",
       "\n",
       "    .dataframe tbody tr th {\n",
       "        vertical-align: top;\n",
       "    }\n",
       "\n",
       "    .dataframe thead th {\n",
       "        text-align: right;\n",
       "    }\n",
       "</style>\n",
       "<table border=\"1\" class=\"dataframe\">\n",
       "  <thead>\n",
       "    <tr style=\"text-align: right;\">\n",
       "      <th></th>\n",
       "      <th>make</th>\n",
       "      <th>model</th>\n",
       "      <th>year</th>\n",
       "      <th>engine_fuel_type</th>\n",
       "      <th>engine_hp</th>\n",
       "      <th>engine_cylinders</th>\n",
       "      <th>transmission_type</th>\n",
       "      <th>driven_wheels</th>\n",
       "      <th>number_of_doors</th>\n",
       "      <th>market_category</th>\n",
       "      <th>vehicle_size</th>\n",
       "      <th>vehicle_style</th>\n",
       "      <th>highway_mpg</th>\n",
       "      <th>city_mpg</th>\n",
       "      <th>popularity</th>\n",
       "      <th>msrp</th>\n",
       "    </tr>\n",
       "  </thead>\n",
       "  <tbody>\n",
       "    <tr>\n",
       "      <th>5551</th>\n",
       "      <td>maserati</td>\n",
       "      <td>granturismo_convertible</td>\n",
       "      <td>2016</td>\n",
       "      <td>premium_unleaded_(required)</td>\n",
       "      <td>454.0</td>\n",
       "      <td>8.0</td>\n",
       "      <td>automatic</td>\n",
       "      <td>rear_wheel_drive</td>\n",
       "      <td>2.0</td>\n",
       "      <td>exotic,luxury,high-performance</td>\n",
       "      <td>midsize</td>\n",
       "      <td>convertible</td>\n",
       "      <td>20</td>\n",
       "      <td>13</td>\n",
       "      <td>238</td>\n",
       "      <td>150465</td>\n",
       "    </tr>\n",
       "    <tr>\n",
       "      <th>7760</th>\n",
       "      <td>audi</td>\n",
       "      <td>q3</td>\n",
       "      <td>2017</td>\n",
       "      <td>premium_unleaded_(recommended)</td>\n",
       "      <td>200.0</td>\n",
       "      <td>4.0</td>\n",
       "      <td>automatic</td>\n",
       "      <td>all_wheel_drive</td>\n",
       "      <td>4.0</td>\n",
       "      <td>crossover,luxury</td>\n",
       "      <td>compact</td>\n",
       "      <td>4dr_suv</td>\n",
       "      <td>28</td>\n",
       "      <td>20</td>\n",
       "      <td>3105</td>\n",
       "      <td>36600</td>\n",
       "    </tr>\n",
       "    <tr>\n",
       "      <th>6792</th>\n",
       "      <td>mercedes-benz</td>\n",
       "      <td>metris</td>\n",
       "      <td>2016</td>\n",
       "      <td>premium_unleaded_(recommended)</td>\n",
       "      <td>208.0</td>\n",
       "      <td>4.0</td>\n",
       "      <td>automatic</td>\n",
       "      <td>rear_wheel_drive</td>\n",
       "      <td>4.0</td>\n",
       "      <td>luxury</td>\n",
       "      <td>compact</td>\n",
       "      <td>passenger_minivan</td>\n",
       "      <td>23</td>\n",
       "      <td>20</td>\n",
       "      <td>617</td>\n",
       "      <td>32500</td>\n",
       "    </tr>\n",
       "    <tr>\n",
       "      <th>10366</th>\n",
       "      <td>buick</td>\n",
       "      <td>terraza</td>\n",
       "      <td>2005</td>\n",
       "      <td>regular_unleaded</td>\n",
       "      <td>200.0</td>\n",
       "      <td>6.0</td>\n",
       "      <td>automatic</td>\n",
       "      <td>all_wheel_drive</td>\n",
       "      <td>4.0</td>\n",
       "      <td>NaN</td>\n",
       "      <td>midsize</td>\n",
       "      <td>passenger_minivan</td>\n",
       "      <td>21</td>\n",
       "      <td>15</td>\n",
       "      <td>155</td>\n",
       "      <td>30990</td>\n",
       "    </tr>\n",
       "    <tr>\n",
       "      <th>4984</th>\n",
       "      <td>nissan</td>\n",
       "      <td>frontier</td>\n",
       "      <td>2016</td>\n",
       "      <td>regular_unleaded</td>\n",
       "      <td>261.0</td>\n",
       "      <td>6.0</td>\n",
       "      <td>automatic</td>\n",
       "      <td>rear_wheel_drive</td>\n",
       "      <td>4.0</td>\n",
       "      <td>NaN</td>\n",
       "      <td>compact</td>\n",
       "      <td>crew_cab_pickup</td>\n",
       "      <td>22</td>\n",
       "      <td>16</td>\n",
       "      <td>2009</td>\n",
       "      <td>25680</td>\n",
       "    </tr>\n",
       "    <tr>\n",
       "      <th>...</th>\n",
       "      <td>...</td>\n",
       "      <td>...</td>\n",
       "      <td>...</td>\n",
       "      <td>...</td>\n",
       "      <td>...</td>\n",
       "      <td>...</td>\n",
       "      <td>...</td>\n",
       "      <td>...</td>\n",
       "      <td>...</td>\n",
       "      <td>...</td>\n",
       "      <td>...</td>\n",
       "      <td>...</td>\n",
       "      <td>...</td>\n",
       "      <td>...</td>\n",
       "      <td>...</td>\n",
       "      <td>...</td>\n",
       "    </tr>\n",
       "    <tr>\n",
       "      <th>5049</th>\n",
       "      <td>infiniti</td>\n",
       "      <td>fx35</td>\n",
       "      <td>2009</td>\n",
       "      <td>premium_unleaded_(required)</td>\n",
       "      <td>303.0</td>\n",
       "      <td>6.0</td>\n",
       "      <td>automatic</td>\n",
       "      <td>rear_wheel_drive</td>\n",
       "      <td>4.0</td>\n",
       "      <td>crossover,luxury</td>\n",
       "      <td>midsize</td>\n",
       "      <td>4dr_suv</td>\n",
       "      <td>23</td>\n",
       "      <td>16</td>\n",
       "      <td>190</td>\n",
       "      <td>42150</td>\n",
       "    </tr>\n",
       "    <tr>\n",
       "      <th>2249</th>\n",
       "      <td>toyota</td>\n",
       "      <td>camry</td>\n",
       "      <td>2015</td>\n",
       "      <td>regular_unleaded</td>\n",
       "      <td>178.0</td>\n",
       "      <td>4.0</td>\n",
       "      <td>automatic</td>\n",
       "      <td>front_wheel_drive</td>\n",
       "      <td>4.0</td>\n",
       "      <td>NaN</td>\n",
       "      <td>midsize</td>\n",
       "      <td>sedan</td>\n",
       "      <td>35</td>\n",
       "      <td>25</td>\n",
       "      <td>2031</td>\n",
       "      <td>23840</td>\n",
       "    </tr>\n",
       "    <tr>\n",
       "      <th>5772</th>\n",
       "      <td>lexus</td>\n",
       "      <td>hs_250h</td>\n",
       "      <td>2012</td>\n",
       "      <td>regular_unleaded</td>\n",
       "      <td>187.0</td>\n",
       "      <td>4.0</td>\n",
       "      <td>automatic</td>\n",
       "      <td>front_wheel_drive</td>\n",
       "      <td>4.0</td>\n",
       "      <td>luxury,hybrid</td>\n",
       "      <td>midsize</td>\n",
       "      <td>sedan</td>\n",
       "      <td>34</td>\n",
       "      <td>35</td>\n",
       "      <td>454</td>\n",
       "      <td>39800</td>\n",
       "    </tr>\n",
       "    <tr>\n",
       "      <th>10773</th>\n",
       "      <td>chevrolet</td>\n",
       "      <td>trax</td>\n",
       "      <td>2016</td>\n",
       "      <td>regular_unleaded</td>\n",
       "      <td>138.0</td>\n",
       "      <td>4.0</td>\n",
       "      <td>automatic</td>\n",
       "      <td>all_wheel_drive</td>\n",
       "      <td>4.0</td>\n",
       "      <td>crossover</td>\n",
       "      <td>compact</td>\n",
       "      <td>4dr_suv</td>\n",
       "      <td>31</td>\n",
       "      <td>24</td>\n",
       "      <td>1385</td>\n",
       "      <td>24145</td>\n",
       "    </tr>\n",
       "    <tr>\n",
       "      <th>7128</th>\n",
       "      <td>mazda</td>\n",
       "      <td>mx-6</td>\n",
       "      <td>1995</td>\n",
       "      <td>regular_unleaded</td>\n",
       "      <td>164.0</td>\n",
       "      <td>6.0</td>\n",
       "      <td>manual</td>\n",
       "      <td>front_wheel_drive</td>\n",
       "      <td>2.0</td>\n",
       "      <td>performance</td>\n",
       "      <td>compact</td>\n",
       "      <td>coupe</td>\n",
       "      <td>24</td>\n",
       "      <td>18</td>\n",
       "      <td>586</td>\n",
       "      <td>2000</td>\n",
       "    </tr>\n",
       "  </tbody>\n",
       "</table>\n",
       "<p>7150 rows × 16 columns</p>\n",
       "</div>"
      ],
      "text/plain": [
       "                make                    model  year  \\\n",
       "5551        maserati  granturismo_convertible  2016   \n",
       "7760            audi                       q3  2017   \n",
       "6792   mercedes-benz                   metris  2016   \n",
       "10366          buick                  terraza  2005   \n",
       "4984          nissan                 frontier  2016   \n",
       "...              ...                      ...   ...   \n",
       "5049        infiniti                     fx35  2009   \n",
       "2249          toyota                    camry  2015   \n",
       "5772           lexus                  hs_250h  2012   \n",
       "10773      chevrolet                     trax  2016   \n",
       "7128           mazda                     mx-6  1995   \n",
       "\n",
       "                     engine_fuel_type  engine_hp  engine_cylinders  \\\n",
       "5551      premium_unleaded_(required)      454.0               8.0   \n",
       "7760   premium_unleaded_(recommended)      200.0               4.0   \n",
       "6792   premium_unleaded_(recommended)      208.0               4.0   \n",
       "10366                regular_unleaded      200.0               6.0   \n",
       "4984                 regular_unleaded      261.0               6.0   \n",
       "...                               ...        ...               ...   \n",
       "5049      premium_unleaded_(required)      303.0               6.0   \n",
       "2249                 regular_unleaded      178.0               4.0   \n",
       "5772                 regular_unleaded      187.0               4.0   \n",
       "10773                regular_unleaded      138.0               4.0   \n",
       "7128                 regular_unleaded      164.0               6.0   \n",
       "\n",
       "      transmission_type      driven_wheels  number_of_doors  \\\n",
       "5551          automatic   rear_wheel_drive              2.0   \n",
       "7760          automatic    all_wheel_drive              4.0   \n",
       "6792          automatic   rear_wheel_drive              4.0   \n",
       "10366         automatic    all_wheel_drive              4.0   \n",
       "4984          automatic   rear_wheel_drive              4.0   \n",
       "...                 ...                ...              ...   \n",
       "5049          automatic   rear_wheel_drive              4.0   \n",
       "2249          automatic  front_wheel_drive              4.0   \n",
       "5772          automatic  front_wheel_drive              4.0   \n",
       "10773         automatic    all_wheel_drive              4.0   \n",
       "7128             manual  front_wheel_drive              2.0   \n",
       "\n",
       "                      market_category vehicle_size      vehicle_style  \\\n",
       "5551   exotic,luxury,high-performance      midsize        convertible   \n",
       "7760                 crossover,luxury      compact            4dr_suv   \n",
       "6792                           luxury      compact  passenger_minivan   \n",
       "10366                             NaN      midsize  passenger_minivan   \n",
       "4984                              NaN      compact    crew_cab_pickup   \n",
       "...                               ...          ...                ...   \n",
       "5049                 crossover,luxury      midsize            4dr_suv   \n",
       "2249                              NaN      midsize              sedan   \n",
       "5772                    luxury,hybrid      midsize              sedan   \n",
       "10773                       crossover      compact            4dr_suv   \n",
       "7128                      performance      compact              coupe   \n",
       "\n",
       "       highway_mpg  city_mpg  popularity    msrp  \n",
       "5551            20        13         238  150465  \n",
       "7760            28        20        3105   36600  \n",
       "6792            23        20         617   32500  \n",
       "10366           21        15         155   30990  \n",
       "4984            22        16        2009   25680  \n",
       "...            ...       ...         ...     ...  \n",
       "5049            23        16         190   42150  \n",
       "2249            35        25        2031   23840  \n",
       "5772            34        35         454   39800  \n",
       "10773           31        24        1385   24145  \n",
       "7128            24        18         586    2000  \n",
       "\n",
       "[7150 rows x 16 columns]"
      ]
     },
     "execution_count": 257,
     "metadata": {},
     "output_type": "execute_result"
    }
   ],
   "source": [
    "df_train"
   ]
  },
  {
   "cell_type": "markdown",
   "id": "2b509cff",
   "metadata": {},
   "source": [
    "### *Step 4: drop the old index column*"
   ]
  },
  {
   "cell_type": "code",
   "execution_count": 258,
   "id": "f8c34bd7",
   "metadata": {},
   "outputs": [],
   "source": [
    "#reset index and drop the old index column.\n",
    "df_train = df_train.reset_index(drop=True)\n",
    "df_val = df_val.reset_index(drop=True)\n",
    "df_test = df_test.reset_index(drop=True)"
   ]
  },
  {
   "cell_type": "code",
   "execution_count": 259,
   "id": "59523b05",
   "metadata": {},
   "outputs": [],
   "source": [
    "#apply the log1p transformation to the price column to help the model perform well\n",
    "y_train = np.log1p(df_train.msrp.values)\n",
    "y_val = np.log1p(df_val.msrp.values)\n",
    "y_test = np.log1p(df_test.msrp.values)"
   ]
  },
  {
   "cell_type": "markdown",
   "id": "91ea1150",
   "metadata": {},
   "source": [
    "### *Step 5: Remove the prediction column from the df_train, df_val, df_test*\n",
    "Very important step here is that we need to remove the msrp values from the dataframes because we don't want to use it for training purposes."
   ]
  },
  {
   "cell_type": "code",
   "execution_count": 260,
   "id": "e9292ad0",
   "metadata": {},
   "outputs": [],
   "source": [
    "del df_train['msrp']\n",
    "del df_val['msrp']\n",
    "del df_test['msrp']"
   ]
  },
  {
   "cell_type": "code",
   "execution_count": 261,
   "id": "4448115d",
   "metadata": {},
   "outputs": [
    {
     "data": {
      "text/plain": [
       "7150"
      ]
     },
     "execution_count": 261,
     "metadata": {},
     "output_type": "execute_result"
    }
   ],
   "source": [
    "len(y_train)"
   ]
  },
  {
   "cell_type": "markdown",
   "id": "aed0e276",
   "metadata": {},
   "source": [
    "### 2.5 Linear regression"
   ]
  },
  {
   "cell_type": "markdown",
   "id": "015773d4",
   "metadata": {},
   "source": [
    "What is Linear Regression?\n",
    "\n",
    "* Statistical technique for predicting continuous numerical outcomes\n",
    "* Finds the best-fitting linear relationship between input features and output\n",
    "* Used across economics, finance, engineering, and social sciences\n",
    "\n",
    "How It Works\n",
    "\n",
    "* Minimizes the sum of squared errors between predicted and actual values\n",
    "* Uses \"ordinary least squares\" method to find the best-fitting line\n",
    "* Goal: find coefficient values that give the most accurate predictions\n",
    "\n",
    "Single Observation Example\n",
    "\n",
    "For one car (engine_hp, city_mpg, popularity):\n",
    "xi = [138, 24, 1385] \n",
    "\n",
    "Function: \n",
    "g(xi) = w0 + w1xi1 + w2xi2+ w3xi3\n",
    "\n",
    "With weights :\n",
    "w0 = 7.17, w = [0.01, 0.04, 0.002]\n",
    "\n",
    "Calculation: \n",
    "7.17 + (138 * 0.01) + (24 * 0.04) + (1385 * 0.002) = 12.28\n",
    "\n",
    "Interpreting the Weights\n",
    "\n",
    "w₀ = 7.17 → Base price prediction without any features\n",
    "engine_hp × 0.01 → Price increases $1 per 100 horsepower\n",
    "city_mpg × 0.04 → Higher fuel consumption = higher price\n",
    "popularity × 0.002 → Small impact on price per social media mention\n",
    "\n",
    "*Linear regression provides a simple, interpretable way to predict numbers and understand feature relationships*"
   ]
  },
  {
   "cell_type": "code",
   "execution_count": 262,
   "id": "5048cfdd",
   "metadata": {},
   "outputs": [
    {
     "data": {
      "text/plain": [
       "make                                     volkswagen\n",
       "model                            beetle_convertible\n",
       "year                                           2014\n",
       "engine_fuel_type     premium_unleaded_(recommended)\n",
       "engine_hp                                     210.0\n",
       "engine_cylinders                                4.0\n",
       "transmission_type                            manual\n",
       "driven_wheels                     front_wheel_drive\n",
       "number_of_doors                                 2.0\n",
       "market_category                         performance\n",
       "vehicle_size                                compact\n",
       "vehicle_style                           convertible\n",
       "highway_mpg                                      31\n",
       "city_mpg                                         23\n",
       "popularity                                      873\n",
       "Name: 10, dtype: object"
      ]
     },
     "execution_count": 262,
     "metadata": {},
     "output_type": "execute_result"
    }
   ],
   "source": [
    "df_train.iloc[10]"
   ]
  },
  {
   "cell_type": "code",
   "execution_count": 263,
   "id": "fea6eb5d",
   "metadata": {},
   "outputs": [],
   "source": [
    "xi = [453, 11, 86]\n",
    "w0 = 7.17\n",
    "w = [0.01, 0.04, 0.002]"
   ]
  },
  {
   "cell_type": "code",
   "execution_count": 264,
   "id": "d8efaa6a",
   "metadata": {},
   "outputs": [],
   "source": [
    "def linear_regression(xi):\n",
    "    n = len(xi)\n",
    "\n",
    "    pred = w0\n",
    "\n",
    "    for j in range(n):\n",
    "        pred = pred + w[j] * xi[j]\n",
    "\n",
    "    return pred"
   ]
  },
  {
   "cell_type": "code",
   "execution_count": 265,
   "id": "81ab219f",
   "metadata": {},
   "outputs": [
    {
     "data": {
      "text/plain": [
       "12.312"
      ]
     },
     "execution_count": 265,
     "metadata": {},
     "output_type": "execute_result"
    }
   ],
   "source": [
    "linear_regression(xi)"
   ]
  },
  {
   "cell_type": "markdown",
   "id": "b1548278",
   "metadata": {},
   "source": [
    "### 2.6 Training a linear regression model"
   ]
  },
  {
   "cell_type": "markdown",
   "id": "356361dc",
   "metadata": {},
   "source": [
    "#### The Goal\n",
    "\n",
    "Find the weight vector w that makes predictions as close as possible to actual values\n",
    "We want: Xw = y (predictions equal actual values)\n",
    "\n",
    "#### The Math Problem\n",
    "#### Understanding Matrix Inverses\n",
    "\n",
    "    Inverse (X⁻¹) is like \"division\" for matrices\n",
    "    When you multiply a matrix by its inverse: X × X⁻¹ = I (Identity matrix)\n",
    "    Similar to how 5 × 1/5 = 1 in regular math\n",
    "\n",
    "#### What is a Square Matrix?\n",
    "\n",
    "A matrix where number of rows = number of columns\n",
    "Examples:\n",
    "\n",
    "2×2 matrix ✓ (square)\n",
    "3×3 matrix ✓ (square)\n",
    "1000×3 matrix ✗ (NOT square - 1000 rows, 3 columns)\n",
    "\n",
    "#### Why X⁻¹ Doesn't Work for Our Data\n",
    "\n",
    "    X⁻¹ only exists for square matrices\n",
    "    Our feature matrix X is usually m × (n+1) - NOT square\n",
    "\n",
    "    m = number of observations (e.g., 1000 cars)\n",
    "    n+1 = number of features (e.g., 3 features)\n",
    "    Example: 1000 rows × 3 columns\n",
    "\n",
    "Non-square matrices change dimensions → can't be reversed/inverted\n",
    "It's mathematically impossible to create X⁻¹ for rectangular matrices\n",
    "\n",
    "#### Understanding the Gram Matrix Solution\n",
    "Step-by-Step Explanation\n",
    "Step 1: What is Xᵀ (X Transpose)?\n",
    "\n",
    "Transpose means flipping rows and columns\n",
    "If X has dimensions 1000×3 (1000 rows, 3 columns)\n",
    "Then Xᵀ has dimensions 3×1000 (3 rows, 1000 columns)\n",
    "Think of it like rotating the matrix 90 degrees\n",
    "\n",
    "Original X (3×2):          Xᵀ Transposed (2×3):\n",
    "[1  2]                     [1  3  5]\n",
    "[3  4]          →          [2  4  6]\n",
    "[5  6]\n",
    "\n",
    "Step 2: What Happens When We Multiply XᵀX?\n",
    "\n",
    "XᵀX = (3×1000) × (1000×3)\n",
    "Matrix multiplication rule: (a×b) × (b×c) = (a×c)\n",
    "Result: 3×3 matrix (SQUARE! ✓)\n",
    "\n",
    "Why This Works:\n",
    "\n",
    "The middle dimensions (1000) must match for multiplication\n",
    "The outer dimensions (3 and 3) become the result's dimensions\n",
    "We always get a square matrix!\n",
    "\n",
    "General Pattern:\n",
    "\n",
    "If X is m×n (any rectangular matrix)\n",
    "Then Xᵀ is n×m\n",
    "XᵀX is (n×m) × (m×n) = n×n (always square!)\n",
    "Numerical Example\n",
    "X (4 cars × 2 features):\n",
    "[10  5]\n",
    "[20  8]\n",
    "[15  6]\n",
    "[25  9]\n",
    "\n",
    "Xᵀ (2 features × 4 cars):\n",
    "[10  20  15  25]\n",
    "[5   8   6   9]\n",
    "\n",
    "XᵀX (2×2 - SQUARE!):\n",
    "[10  20  15  25]   [10  5]     [1550  1015]\n",
    "[5   8   6   9]  × [20  8]  =  [1015   686]\n",
    "                   [15  6]\n",
    "                   [25  9]\n",
    "\n",
    "                   Why This Solves Our Problem\n",
    "\n",
    "Original problem: Can't invert X (not square)\n",
    "New approach: Invert XᵀX instead (IS square!)\n",
    "(XᵀX)⁻¹ exists because XᵀX is square\n",
    "This gives us the formula: w = (XᵀX)⁻¹Xᵀy\n",
    "\n",
    "Key Insight\n",
    "XᵀX is called the Gram Matrix, and it's ALWAYS square no matter what shape X is!\n",
    "This mathematical trick lets us \"work around\" the limitation that we can't invert non-square matrices.\n",
    "\n",
    "#### The Formula to Find Weights\n",
    "*w = (XᵀX)⁻¹Xᵀy*"
   ]
  },
  {
   "cell_type": "markdown",
   "id": "6551657c",
   "metadata": {},
   "source": [
    "#### Implementation Steps\n",
    "Step 1: Prepare the Feature Matrix\n",
    "Why Add a Column of Ones?\n",
    "\n",
    "Remember the formula: y = w₀ + w₁x₁ + w₂x₂ + ...\n",
    "w₀ is the bias term (base prediction)\n",
    "To include w₀ in matrix multiplication, we need a column of 1's\n",
    "When we multiply: 1 × w₀ = w₀ (keeps the bias in our equation)\n",
    "\n",
    "Code Breakdown:\n",
    "Original X (3 cars, 2 features):\n",
    "``X = [[138, 24],\n",
    "     [132, 25],\n",
    "     [158, 24]]\n",
    "``\n",
    "#### Create ones vector - same length as number of rows\n",
    "````ones = np.ones(X.shape[0])  # X.shape[0] = 3 rows\n",
    " Result: [1., 1., 1.]````\n",
    "\n",
    " Stack ones as first column\n",
    "``X = np.column_stack([ones, X])\n",
    "Result: [[1, 138, 24],\n",
    "          [1, 132, 25],\n",
    "          [1, 158, 24]]``\n",
    "What X.shape[0] means:\n",
    "\n",
    "X.shape returns dimensions as (rows, columns)\n",
    "X.shape[0] = number of rows (observations)\n",
    "Example: if X is 1000×3, then X.shape[0] = 1000\n",
    "\n",
    "\n",
    "Step 2: Calculate the Gram Matrix\n",
    "What .T and .dot() mean:\n",
    "pythonXTX = X.T.dot(X)\n",
    "\n",
    "X.T = transpose of X (flip rows/columns)\n",
    ".dot() = matrix multiplication\n",
    "X.T.dot(X) = XᵀX (Gram Matrix)\n",
    "\n",
    "Example:\n",
    "``If X is (3×3):\n",
    "X = [[1, 138, 24],\n",
    "     [1, 132, 25],\n",
    "     [1, 158, 24]]\n",
    "``\n",
    " X.T is (3×3):\n",
    "``X.T = [[1,   1,   1],\n",
    "       [138, 132, 158],\n",
    "       [24,  25,  24]]\n",
    "``\n",
    "XTX is (3×3) - SQUARE!\n",
    "XTX = X.T.dot(X)\n",
    "\n",
    "Step 3: Find the Inverse\n",
    "What is np.linalg.inv()?\n",
    "\n",
    "linalg = linear algebra module in NumPy\n",
    ".inv() = calculates the inverse of a matrix\n",
    "Finds (XᵀX)⁻¹\n",
    "\n",
    "Verification:\n",
    "XTX_inv = np.linalg.inv(XTX)\n",
    "\n",
    "Check: XTX × XTX_inv should equal Identity matrix\n",
    "result = XTX.dot(XTX_inv)\n",
    "Should be:\n",
    " ``[[1, 0, 0],\n",
    " [0, 1, 0],\n",
    " [0, 0, 1]]``\n",
    "\n",
    "Step 4: Compute Full Weight Vector\n",
    "Breaking Down the Formula:\n",
    "``w_full = XTX_inv.dot(X.T).dot(y)\n",
    "This implements: w = (XᵀX)⁻¹Xᵀy``\n",
    "\n",
    "Step-by-step:\n",
    "\n",
    "``X.T = transpose X\n",
    "XTX_inv.dot(X.T) = multiply inverse by Xᵀ\n",
    ".dot(y) = multiply result by y (target values)``\n",
    "\n",
    "What is w_full?\n",
    "\n",
    "A vector containing ALL weights including bias\n",
    "``Example: [30009.25, -22.78, -257.69, -2.30]\n",
    "First element = w₀ (bias)\n",
    "Rest = w₁, w₂, w₃, ... (feature weights)\n",
    "``\n",
    "\n",
    "Step 5: Extract Components\n",
    "``Array Slicing in Python:\n",
    "w_full = [30009.25, -22.78, -257.69, -2.30]\n",
    "\n",
    "w0 = w_full[0]      # Get first element\n",
    "Result: 30009.25\n",
    "\n",
    "w = w_full[1:]      # Get everything after first element\n",
    " Result: [-22.78, -257.69, -2.30]\n",
    "What [1:] means:\n",
    "\n",
    "[0] = first element (index 0)\n",
    "[1:] = from index 1 to the end (everything except first)\n",
    "[:] = all elements\n",
    "[:3] = first 3 elements``\n",
    "\n",
    "\n",
    "Complete Function Walkthrough\n",
    "````def train_linear_regression(X, y):\n",
    "\n",
    "    # Step 1: Add column of ones\n",
    "    ones = np.ones(X.shape[0])        # Create [1, 1, 1, ...]\n",
    "    X = np.column_stack([ones, X])    # Add as first column\n",
    "    \n",
    "    # Step 2: Calculate Gram Matrix\n",
    "    XTX = X.T.dot(X)                  # XᵀX\n",
    "    \n",
    "    # Step 3: Find inverse\n",
    "    XTX_inv = np.linalg.inv(XTX)      # (XᵀX)⁻¹\n",
    "    \n",
    "    # Step 4: Calculate weights\n",
    "    w_full = XTX_inv.dot(X.T).dot(y)  # (XᵀX)⁻¹Xᵀy\n",
    "    \n",
    "    # Step 5: Split into bias and weights\n",
    "    return w_full[0], w_full[1:]      # (w₀, [w₁, w₂, ...])````\n",
    "\n",
    "\n",
    "````Usage Example:\n",
    "X = [[138, 24], [132, 25], [158, 24]]\n",
    "y = [10000, 20000, 15000]\n",
    "\n",
    "w0, w = train_linear_regression(X, y)\n",
    "Returns: w0 = 30009.25\n",
    "          w = [-22.78, -257.69]\n",
    "\n",
    "Visual Summary\n",
    "Input:\n",
    "X = [[138, 24],      y = [10000,\n",
    "     [132, 25],           20000,\n",
    "     [158, 24]]           15000]\n",
    "\n",
    "↓ Add ones column\n",
    "\n",
    "X = [[1, 138, 24],\n",
    "     [1, 132, 25],\n",
    "     [1, 158, 24]]\n",
    "\n",
    "↓ Calculate XᵀX and inverse\n",
    "\n",
    "↓ Apply formula: w = (XᵀX)⁻¹Xᵀy\n",
    "\n",
    "Output:\n",
    "w_full = [30009.25, -22.78, -257.69]\n",
    "         ↓         ↓\n",
    "         w₀        w (feature weights)````\n"
   ]
  },
  {
   "cell_type": "markdown",
   "id": "930b2fd6",
   "metadata": {},
   "source": [
    "*2.7 applying linear regression on example data*"
   ]
  },
  {
   "cell_type": "code",
   "execution_count": 266,
   "id": "e7d20b11",
   "metadata": {},
   "outputs": [],
   "source": [
    "def train_linear_regression(X, y):\n",
    "    pass"
   ]
  },
  {
   "cell_type": "code",
   "execution_count": 267,
   "id": "08e909b3",
   "metadata": {},
   "outputs": [
    {
     "data": {
      "text/plain": [
       "array([[ 148,   24, 1385],\n",
       "       [ 132,   25, 2031],\n",
       "       [ 453,   11,   86],\n",
       "       [ 158,   24,  185],\n",
       "       [ 172,   25,  201],\n",
       "       [ 413,   11,   86],\n",
       "       [  38,   54,  185],\n",
       "       [ 142,   25,  431],\n",
       "       [ 453,   31,   86]])"
      ]
     },
     "execution_count": 267,
     "metadata": {},
     "output_type": "execute_result"
    }
   ],
   "source": [
    "X = [\n",
    "    [148, 24, 1385],\n",
    "    [132, 25, 2031],\n",
    "    [453, 11, 86],\n",
    "    [158, 24, 185],\n",
    "    [172, 25, 201],\n",
    "    [413, 11, 86],\n",
    "    [38,  54, 185],\n",
    "    [142, 25, 431],\n",
    "    [453, 31, 86],\n",
    "]\n",
    "\n",
    "X = np.array(X)\n",
    "X"
   ]
  },
  {
   "cell_type": "code",
   "execution_count": 268,
   "id": "4f4ae3c8",
   "metadata": {},
   "outputs": [
    {
     "data": {
      "text/plain": [
       "array([1., 1., 1., 1., 1., 1., 1., 1., 1.])"
      ]
     },
     "execution_count": 268,
     "metadata": {},
     "output_type": "execute_result"
    }
   ],
   "source": [
    "# Step 1: Create Ones Vector\n",
    "ones = np.ones(X.shape[0])\n",
    "ones"
   ]
  },
  {
   "cell_type": "code",
   "execution_count": 269,
   "id": "93bdbf5f",
   "metadata": {},
   "outputs": [],
   "source": [
    "# Step 2: Add Ones Column to X\n",
    "X = np.column_stack([ones, X])"
   ]
  },
  {
   "cell_type": "code",
   "execution_count": 270,
   "id": "fad252ad",
   "metadata": {},
   "outputs": [],
   "source": [
    "# Step 3: Define Target Values\n",
    "y = [10000, 20000, 15000, 20050, 10000, 20000, 15000, 25000, 12000]"
   ]
  },
  {
   "cell_type": "code",
   "execution_count": 271,
   "id": "1eabecf0",
   "metadata": {},
   "outputs": [],
   "source": [
    "# Step 4: Calculate Weights\n",
    "XTX = X.T.dot(X)                  # Gram Matrix\n",
    "XTX_inv = np.linalg.inv(XTX)      # Inverse\n",
    "w_full = XTX_inv.dot(X.T).dot(y)  # Full weight vector"
   ]
  },
  {
   "cell_type": "code",
   "execution_count": 272,
   "id": "09ae554b",
   "metadata": {},
   "outputs": [
    {
     "name": "stdout",
     "output_type": "stream",
     "text": [
      "7.17 [ -16.08906468 -199.47254894   -1.22802883]\n"
     ]
    }
   ],
   "source": [
    "# Step 5: Extract Bias and Weights\n",
    "pythonw0 = w_full[0]\n",
    "w = w_full[1:]\n",
    "\n",
    "print(w0, w)"
   ]
  },
  {
   "cell_type": "code",
   "execution_count": 273,
   "id": "1e549940",
   "metadata": {},
   "outputs": [],
   "source": [
    "# Complete Function\n",
    "def train_linear_regression(X, y):\n",
    "    ones = np.ones(X.shape[0])\n",
    "    X = np.column_stack([ones, X])\n",
    "\n",
    "    XTX = X.T.dot(X)\n",
    "    XTX_inv = np.linalg.inv(XTX)\n",
    "    w_full = XTX_inv.dot(X.T).dot(y)\n",
    "    \n",
    "    return w_full[0], w_full[1:]"
   ]
  },
  {
   "cell_type": "code",
   "execution_count": 274,
   "id": "8a23f080",
   "metadata": {},
   "outputs": [
    {
     "name": "stdout",
     "output_type": "stream",
     "text": [
      "Bias (w0): 25844.754055766833\n",
      "Weights (w): [ -16.08906468 -199.47254894   -1.22802883]\n"
     ]
    }
   ],
   "source": [
    "import numpy as np\n",
    "\n",
    "# Define the function\n",
    "def train_linear_regression(X, y):\n",
    "    ones = np.ones(X.shape[0])\n",
    "    X = np.column_stack([ones, X])\n",
    "    \n",
    "    XTX = X.T.dot(X)\n",
    "    XTX_inv = np.linalg.inv(XTX)\n",
    "    w_full = XTX_inv.dot(X.T).dot(y)\n",
    "    \n",
    "    return w_full[0], w_full[1:]\n",
    "\n",
    "# Create FRESH data (no ones column)\n",
    "X = np.array([\n",
    "    [148, 24, 1385],\n",
    "    [132, 25, 2031],\n",
    "    [453, 11, 86],\n",
    "    [158, 24, 185],\n",
    "    [172, 25, 201],\n",
    "    [413, 11, 86],\n",
    "    [38,  54, 185],\n",
    "    [142, 25, 431],\n",
    "    [453, 31, 86],\n",
    "])\n",
    "\n",
    "y = [10000, 20000, 15000, 20050, 10000, 20000, 15000, 25000, 12000]\n",
    "\n",
    "# Call function\n",
    "w0, w = train_linear_regression(X, y)\n",
    "print(f\"Bias (w0): {w0}\")\n",
    "print(f\"Weights (w): {w}\")"
   ]
  },
  {
   "cell_type": "markdown",
   "id": "5d856acd",
   "metadata": {},
   "source": [
    "### *2.8 Car price baseline model*"
   ]
  },
  {
   "cell_type": "markdown",
   "id": "1fb3172e",
   "metadata": {},
   "source": [
    "What is a Baseline Model?\n",
    "\n",
    "* A simple starting point for machine learning\n",
    "* Uses basic features to make predictions\n",
    "* Helps us understand if our model is learning anything useful\n",
    "* We can compare more complex models against this baseline"
   ]
  },
  {
   "cell_type": "code",
   "execution_count": 275,
   "id": "f28f88fc",
   "metadata": {},
   "outputs": [
    {
     "data": {
      "text/plain": [
       "Index(['make', 'model', 'year', 'engine_fuel_type', 'engine_hp',\n",
       "       'engine_cylinders', 'transmission_type', 'driven_wheels',\n",
       "       'number_of_doors', 'market_category', 'vehicle_size', 'vehicle_style',\n",
       "       'highway_mpg', 'city_mpg', 'popularity'],\n",
       "      dtype='object')"
      ]
     },
     "execution_count": 275,
     "metadata": {},
     "output_type": "execute_result"
    }
   ],
   "source": [
    "# Step 1: Exploring Available Features\n",
    "df_train.columns\n",
    "\n",
    "# All available features in our dataset"
   ]
  },
  {
   "cell_type": "markdown",
   "id": "bb62b427",
   "metadata": {},
   "source": [
    "What This Shows:\n",
    "\n",
    "* We have 15 different features about each car\n",
    "* Some are numerical (engine_hp, year, mpg)\n",
    "* Some are categorical (make, model, vehicle_style)"
   ]
  },
  {
   "cell_type": "code",
   "execution_count": 276,
   "id": "bdecf254",
   "metadata": {},
   "outputs": [],
   "source": [
    "# Step 2: Selecting Baseline Features\n",
    "\n",
    "base = ['engine_hp', 'engine_cylinders', 'highway_mpg',\n",
    "        'city_mpg', 'popularity']\n",
    "\n",
    "X_train = df_train[base].fillna(0).values\n",
    "\n",
    "w0, w = train_linear_regression(X_train, y_train)\n",
    "\n",
    "y_pred = w0 + X_train.dot(w)"
   ]
  },
  {
   "cell_type": "markdown",
   "id": "e3d77242",
   "metadata": {},
   "source": [
    "Why These 5 Features?\n",
    "Chosen Features:\n",
    "\n",
    "* engine_hp - Engine horsepower (more power = higher price)\n",
    "* engine_cylinders - Number of cylinders (4, 6, 8, etc.)\n",
    "* highway_mpg - Miles per gallon on highway (fuel efficiency)\n",
    "* city_mpg - Miles per gallon in city\n",
    "* popularity - How popular the car is (social media mentions)\n",
    "\n",
    "Why Only These?\n",
    "\n",
    "* All are numerical (easy to use in linear regression)\n",
    "* No missing values issues (or we can easily fill them)\n",
    "* Represent important car characteristics\n",
    "* Simple enough for a baseline model"
   ]
  },
  {
   "cell_type": "code",
   "execution_count": 277,
   "id": "c6e8151c",
   "metadata": {},
   "outputs": [],
   "source": [
    "# Step 3: Preparing Training Data\n",
    "\n",
    "X_train = df_train[base].fillna(0).values"
   ]
  },
  {
   "cell_type": "markdown",
   "id": "4f3e1887",
   "metadata": {},
   "source": [
    "Breaking This Down:\n",
    " df_train[base]\n",
    "\n",
    "* Selects only the 5 features we want from the training dataframe\n",
    "* Creates a smaller dataframe with just these columns\n",
    "\n",
    ".fillna(0)\n",
    "\n",
    "* Handles missing values (NaN = \"Not a Number\")\n",
    "* Replaces any missing values with 0\n",
    "* Example: If a car's engine_hp is missing, it becomes 0\n",
    "\n",
    "Why fill with 0?\n",
    "\n",
    "* Linear regression can't handle missing values\n",
    "* 0 is a reasonable default (means \"no information\")\n",
    "* Better alternatives exist, but this is simple for baseline\n",
    "\n",
    ".values\n",
    "\n",
    "* Converts the dataframe to a NumPy array\n",
    "* Required format for our train_linear_regression() function\n",
    "* Removes column names, keeps only the numbers"
   ]
  },
  {
   "cell_type": "code",
   "execution_count": 278,
   "id": "bbf594fb",
   "metadata": {},
   "outputs": [],
   "source": [
    "# Step 4: Training the Model\n",
    "\n",
    "w0, w = train_linear_regression(X_train, y_train)\n"
   ]
  },
  {
   "cell_type": "markdown",
   "id": "b27d2a5c",
   "metadata": {},
   "source": [
    "What Happens:\n",
    "\n",
    "* Function calculates optimal weights using our formula: w = (XᵀX)⁻¹Xᵀy\n",
    "* Returns w0 (bias) and w (feature weights)\n",
    "* These weights tell us how each feature affects the price"
   ]
  },
  {
   "cell_type": "code",
   "execution_count": 279,
   "id": "e5d25010",
   "metadata": {},
   "outputs": [
    {
     "name": "stdout",
     "output_type": "stream",
     "text": [
      "7.42980074597285\n",
      "[ 9.32431852e-03 -1.16577815e-01  4.59301601e-02 -9.55808545e-03\n",
      " -6.03124775e-06]\n"
     ]
    }
   ],
   "source": [
    "print(w0)  \n",
    "print(w)   "
   ]
  },
  {
   "cell_type": "code",
   "execution_count": 280,
   "id": "f8ca6a50",
   "metadata": {},
   "outputs": [],
   "source": [
    "# Step 6: Making Predictions\n",
    "\n",
    "y_pred = w0 + X_train.dot(w)"
   ]
  },
  {
   "cell_type": "code",
   "execution_count": 281,
   "id": "125040db",
   "metadata": {},
   "outputs": [
    {
     "data": {
      "text/plain": [
       "array([4.09353075, 2.4747082 , 2.33465769, ..., 2.50169057, 2.00653233,\n",
       "       1.75646534], shape=(7150,))"
      ]
     },
     "execution_count": 281,
     "metadata": {},
     "output_type": "execute_result"
    }
   ],
   "source": [
    "# In Matrix Form:\n",
    "X_train.dot(w)  # Multiplies each feature by its weight and sums"
   ]
  },
  {
   "cell_type": "code",
   "execution_count": 282,
   "id": "06b35016",
   "metadata": {},
   "outputs": [
    {
     "data": {
      "text/plain": [
       "<Axes: ylabel='Count'>"
      ]
     },
     "execution_count": 282,
     "metadata": {},
     "output_type": "execute_result"
    },
    {
     "data": {
      "image/png": "[encoded data removed]",
      "text/plain": [
       "<Figure size 640x480 with 1 Axes>"
      ]
     },
     "metadata": {},
     "output_type": "display_data"
    }
   ],
   "source": [
    "# Step 7: Visualizing Results\n",
    "sns.histplot(y_pred, color='red', alpha=0.5, bins=50)\n",
    "sns.histplot(y_train, color='blue', alpha=0.5, bins=50)"
   ]
  },
  {
   "cell_type": "markdown",
   "id": "13f0bce2",
   "metadata": {},
   "source": [
    "### *2.9 RMSE*"
   ]
  },
  {
   "cell_type": "markdown",
   "id": "e9df2f79",
   "metadata": {},
   "source": [
    "2.9 RMSE (Root Mean Squared Error)\n",
    "💡 Concept:\n",
    "\n",
    "RMSE is a metric used to measure how well a regression model predicts outcomes.\n",
    "\n",
    "It tells us how far our predictions (y_pred) are from the true values (y) on average.\n",
    "\n",
    "Lower RMSE = better model performance.\n"
   ]
  },
  {
   "cell_type": "code",
   "execution_count": 283,
   "id": "c01c57b0",
   "metadata": {},
   "outputs": [],
   "source": [
    "def rmse(y, y_pred):\n",
    "    se = (y - y_pred) ** 2   # Step 1: Calculate squared errors\n",
    "    mse = se.mean()          # Step 2: Compute mean squared error (average of squared errors)\n",
    "    return np.sqrt(mse)      # Step 3: Take square root to get RMSE\n"
   ]
  },
  {
   "cell_type": "code",
   "execution_count": 284,
   "id": "5e543119",
   "metadata": {},
   "outputs": [
    {
     "name": "stdout",
     "output_type": "stream",
     "text": [
      "0.7468138985982006\n"
     ]
    }
   ],
   "source": [
    "rmse_val =rmse(y_train, y_pred)\n",
    "\n",
    "print(rmse_val)"
   ]
  },
  {
   "cell_type": "markdown",
   "id": "59c3f042",
   "metadata": {},
   "source": [
    "Interpretation:\n",
    "\n",
    "RMSE = 0.7554\n",
    "\n",
    "This means on average, our predictions differ from the true values by about 0.76 units.\n",
    "\n",
    "This is on the training data, so it tells how well our model fits the training set."
   ]
  },
  {
   "cell_type": "markdown",
   "id": "d02549d2",
   "metadata": {},
   "source": [
    "### *2.10 Validating the Model*"
   ]
  },
  {
   "cell_type": "markdown",
   "id": "ba331319",
   "metadata": {},
   "source": [
    "💡 Purpose:\n",
    "\n",
    "* After training, we must check how well the model performs on unseen data (validation set).\n",
    "\n",
    "* This helps detect overfitting — when a model works well on training data but fails on new data."
   ]
  },
  {
   "cell_type": "code",
   "execution_count": 285,
   "id": "aa5bae08",
   "metadata": {},
   "outputs": [],
   "source": [
    "#Step 1 — Prepare Input Data\n",
    "\n",
    "def prepare_X(df):\n",
    "    df_num = df[base]          # Select only numerical columns (base features)\n",
    "    df_num = df_num.fillna(0)  # Replace missing values with 0\n",
    "    X = df_num.values          # Convert dataframe to NumPy array\n",
    "    return X\n",
    "\n",
    "\n",
    "# 🔍 Why?\n",
    "\n",
    "# ML models need numeric input (arrays).\n",
    "\n",
    "# Missing values (NaN) can cause errors — filling them ensures stable computation."
   ]
  },
  {
   "cell_type": "code",
   "execution_count": 286,
   "id": "b10f1da4",
   "metadata": {},
   "outputs": [],
   "source": [
    "# Step 2 — Prepare Training Data\n",
    "X_train = prepare_X(df_train)\n",
    "w0, w = train_linear_regression(X_train, y_train)\n",
    "\n",
    "# w0: intercept (bias term)\n",
    "\n",
    "# w: weight vector (coefficients for features)"
   ]
  },
  {
   "cell_type": "code",
   "execution_count": 287,
   "id": "afe61720",
   "metadata": {},
   "outputs": [],
   "source": [
    "# Step 3 — Prepare Validation Data\n",
    "X_val = prepare_X(df_val)"
   ]
  },
  {
   "cell_type": "code",
   "execution_count": 288,
   "id": "d6bb7ac5",
   "metadata": {},
   "outputs": [],
   "source": [
    "# Step 4 — Make Predictions\n",
    "y_pred = w0 + X_val.dot(w)"
   ]
  },
  {
   "cell_type": "code",
   "execution_count": 289,
   "id": "0cbee70d",
   "metadata": {},
   "outputs": [
    {
     "name": "stdout",
     "output_type": "stream",
     "text": [
      "0.8106890741802982\n"
     ]
    }
   ],
   "source": [
    "# Step 5 — Evaluate with RMSE\n",
    "val = rmse(y_val, y_pred)\n",
    "print(val)"
   ]
  },
  {
   "cell_type": "code",
   "execution_count": 290,
   "id": "b990e3bc",
   "metadata": {},
   "outputs": [
    {
     "name": "stdout",
     "output_type": "stream",
     "text": [
      "train RMSE: 0.7468138985982006\n",
      "val   RMSE: 0.8106890741802982\n"
     ]
    }
   ],
   "source": [
    "X_train = prepare_X(df_train)\n",
    "w0, w   = train_linear_regression(X_train, y_train)\n",
    "\n",
    "# Train preds\n",
    "y_pred_train = w0 + X_train.dot(w)\n",
    "\n",
    "X_val  = prepare_X(df_val)\n",
    "y_pred_val = w0 + X_val.dot(w)\n",
    "\n",
    "print(\"train RMSE:\", rmse(y_train, y_pred_train))\n",
    "print(\"val   RMSE:\", rmse(y_val,   y_pred_val))\n"
   ]
  },
  {
   "cell_type": "markdown",
   "id": "dcca0d48",
   "metadata": {},
   "source": [
    "### *2.11 Simple Feature Engineering*"
   ]
  },
  {
   "cell_type": "markdown",
   "id": "93f8df46",
   "metadata": {},
   "source": [
    "Feature engineering means creating new, more informative features from the existing data to help the model make better predictions."
   ]
  },
  {
   "cell_type": "code",
   "execution_count": null,
   "id": "c01eb116",
   "metadata": {},
   "outputs": [],
   "source": [
    "# Adding a new feature called age (how old something is)\n",
    "# Re-training our model with this extra feature\n",
    "# Re-evaluating performance\n",
    "\n",
    "# Step 1 — Modify prepare_X() to add a new feature\n",
    "def prepare_X(df):\n",
    "    df = df.copy()                       # Make a copy to avoid modifying original data\n",
    "    \n",
    "    df['age'] = 2017 - df['year']        # Create a new column 'age'\n",
    "    features = base + ['age']            # Add 'age' to the list of features\n",
    "    \n",
    "    df_num = df[features]                # Select numerical features\n",
    "    df_num = df_num.fillna(0)            # Replace missing values with 0\n",
    "    X = df_num.values                    # Convert to NumPy array for training\n",
    "\n",
    "    return X\n"
   ]
  },
  {
   "cell_type": "code",
   "execution_count": 294,
   "id": "241ac866",
   "metadata": {},
   "outputs": [],
   "source": [
    "# Step 2 — Train the Model Again\n",
    "X_train = prepare_X(df_train)\n",
    "w0, w = train_linear_regression(X_train, y_train)"
   ]
  },
  {
   "cell_type": "code",
   "execution_count": 295,
   "id": "992e5be9",
   "metadata": {},
   "outputs": [
    {
     "data": {
      "text/plain": [
       "np.float64(0.5350519489714102)"
      ]
     },
     "execution_count": 295,
     "metadata": {},
     "output_type": "execute_result"
    }
   ],
   "source": [
    "# Step 3 — Validate on New Data\n",
    "X_val = prepare_X(df_val)\n",
    "y_pred = w0 + X_val.dot(w)\n",
    "rmse(y_val, y_pred)"
   ]
  },
  {
   "cell_type": "markdown",
   "id": "f770780e",
   "metadata": {},
   "source": [
    "This shows ‘age’ is a strong predictive feature — it helps the model understand how value decreases over time."
   ]
  },
  {
   "cell_type": "code",
   "execution_count": 296,
   "id": "12487262",
   "metadata": {},
   "outputs": [
    {
     "data": {
      "text/plain": [
       "<matplotlib.legend.Legend at 0x23c6dfa6f90>"
      ]
     },
     "execution_count": 296,
     "metadata": {},
     "output_type": "execute_result"
    },
    {
     "data": {
      "image/png": "[encoded data removed]",
      "text/plain": [
       "<Figure size 640x480 with 1 Axes>"
      ]
     },
     "metadata": {},
     "output_type": "display_data"
    }
   ],
   "source": [
    "# Step 4 — Visualizing Predictions\n",
    "sns.histplot(y_pred, label='prediction', color='red', alpha=0.5, bins=50)\n",
    "sns.histplot(y_val, label='target', color='blue', alpha=0.5, bins=50)\n",
    "plt.legend()\n"
   ]
  },
  {
   "cell_type": "markdown",
   "id": "e4237e6f",
   "metadata": {},
   "source": [
    "### 2.12 Handling Categorical Variables"
   ]
  },
  {
   "cell_type": "markdown",
   "id": "dbf2dd56",
   "metadata": {},
   "source": [
    "So far, our model only used numerical features (like year, mileage, age, etc.).\n",
    "\n",
    "However, real-world data often includes categorical features — like car make, model, or engine_fuel_type.\n",
    "These are text-based columns that describe categories rather than numbers.\n",
    "\n",
    "ML models cannot directly handle text, so we need to convert them into numeric form.\n",
    "\n",
    "This process is called encoding."
   ]
  },
  {
   "cell_type": "code",
   "execution_count": 297,
   "id": "477b173b",
   "metadata": {},
   "outputs": [],
   "source": [
    "# Step 1 — Identify Categorical Columns\n",
    "categorical_columns = [\n",
    "    'make', 'model', 'engine_fuel_type', 'driven_wheels',\n",
    "    'market_category', 'vehicle_size', 'vehicle_style']"
   ]
  },
  {
   "cell_type": "code",
   "execution_count": 298,
   "id": "4162bf06",
   "metadata": {},
   "outputs": [],
   "source": [
    "# Step 2 — Select the Most Frequent Categories\n",
    "categorical = {}\n",
    "\n",
    "for c in categorical_columns:\n",
    "    categorical[c] = list(df_train[c].value_counts().head().index)\n"
   ]
  },
  {
   "cell_type": "code",
   "execution_count": 303,
   "id": "25d25616",
   "metadata": {},
   "outputs": [],
   "source": [
    "# Step 3 — Update prepare_X() to Include Categorical and Numeric Features & Encode the Top Categorical Values \n",
    "\n",
    "def prepare_X(df):\n",
    "    df = df.copy()\n",
    "    \n",
    "    df['age'] = 2017 - df['year']\n",
    "    features = base + ['age']\n",
    "\n",
    "    for v in [2, 3, 4]:\n",
    "        df['num_doors_%d' % v] = (df.number_of_doors == v).astype(int)\n",
    "        features.append('num_doors_%d' % v)\n",
    "\n",
    "    for name, values in categorical.items():\n",
    "        for value in values:\n",
    "            df['%s_%s' % (name, value)] = (df[name] == value).astype(int)\n",
    "            features.append('%s_%s' % (name, value))\n",
    "\n",
    "    df_num = df[features]\n",
    "    df_num = df_num.fillna(0)\n",
    "    X = df_num.values\n",
    "\n",
    "    return X"
   ]
  },
  {
   "cell_type": "code",
   "execution_count": 304,
   "id": "55a58fd2",
   "metadata": {},
   "outputs": [
    {
     "data": {
      "text/plain": [
       "np.float64(97.61268738576149)"
      ]
     },
     "execution_count": 304,
     "metadata": {},
     "output_type": "execute_result"
    }
   ],
   "source": [
    "# Step 4 — Train and Evaluate the Model\n",
    "X_train = prepare_X(df_train)\n",
    "w0, w = train_linear_regression(X_train, y_train)\n",
    "\n",
    "X_val = prepare_X(df_val)\n",
    "y_pred = w0 + X_val.dot(w)\n",
    "rmse(y_val, y_pred)\n",
    "\n"
   ]
  },
  {
   "cell_type": "markdown",
   "id": "d9fd2ff0",
   "metadata": {},
   "source": [
    "such large rmse values indicates overfitting. We solve this issue by using regularisation.\n"
   ]
  },
  {
   "cell_type": "markdown",
   "id": "3364bc7f",
   "metadata": {},
   "source": [
    "### 2.13 Regularization"
   ]
  },
  {
   "cell_type": "code",
   "execution_count": 312,
   "id": "27e890f6",
   "metadata": {},
   "outputs": [],
   "source": [
    "X = [\n",
    "    [4, 4, 4],\n",
    "    [3, 5, 5],\n",
    "    [5, 1, 1],\n",
    "    [5, 4, 4],\n",
    "    [7, 5, 5],\n",
    "    [4, 5, 5.00000001],\n",
    "]\n",
    "X = np.array(X)\n",
    "y = [1, 2, 3, 1, 2, 3]\n",
    "\n",
    "# Columns 2 and 3 are almost identical (notice 5 and 5.00000001).\n",
    "\n",
    "# This causes multicollinearity, meaning the columns are highly correlated.\n",
    "# The matrix becomes nearly singular (non-invertible).\n"
   ]
  },
  {
   "cell_type": "code",
   "execution_count": 313,
   "id": "b5bf2fed",
   "metadata": {},
   "outputs": [
    {
     "data": {
      "text/plain": [
       "array([[140.        , 111.        , 111.00000004],\n",
       "       [111.        , 108.        , 108.00000005],\n",
       "       [111.00000004, 108.00000005, 108.0000001 ]])"
      ]
     },
     "execution_count": 313,
     "metadata": {},
     "output_type": "execute_result"
    }
   ],
   "source": [
    "XTX = X.T.dot(X)\n",
    "XTX\n",
    "# This gives  the covariance between features.\n",
    "# If two columns are almost the same, their covariance values will be large and the matrix nearly singular."
   ]
  },
  {
   "cell_type": "code",
   "execution_count": 317,
   "id": "63094e49",
   "metadata": {},
   "outputs": [],
   "source": [
    "XTX = X.T.dot(X)\n",
    "XTX = XTX + 0.01 * np.eye(XTX.shape[0])  # add small term to diagonal\n",
    "XTX_inv = np.linalg.inv(XTX)\n"
   ]
  },
  {
   "cell_type": "code",
   "execution_count": 318,
   "id": "a0fed09c",
   "metadata": {},
   "outputs": [
    {
     "data": {
      "text/plain": [
       "array([0.33643484, 0.04007035, 0.04007161])"
      ]
     },
     "execution_count": 318,
     "metadata": {},
     "output_type": "execute_result"
    }
   ],
   "source": [
    "XTX_inv.dot(X.T).dot(y)"
   ]
  },
  {
   "cell_type": "code",
   "execution_count": 319,
   "id": "b20cd438",
   "metadata": {},
   "outputs": [
    {
     "data": {
      "text/plain": [
       "array([[ 3.85624712e-02, -1.98159300e-02, -1.98158861e-02],\n",
       "       [-1.98159300e-02,  5.00124975e+01, -4.99875026e+01],\n",
       "       [-1.98158861e-02, -4.99875026e+01,  5.00124974e+01]])"
      ]
     },
     "execution_count": 319,
     "metadata": {},
     "output_type": "execute_result"
    }
   ],
   "source": [
    "np.linalg.inv(XTX)"
   ]
  },
  {
   "cell_type": "code",
   "execution_count": 320,
   "id": "cb31f633",
   "metadata": {},
   "outputs": [],
   "source": [
    "XTX = XTX + 0.01 * np.eye(3)"
   ]
  },
  {
   "cell_type": "code",
   "execution_count": 321,
   "id": "ea0dded8",
   "metadata": {},
   "outputs": [
    {
     "data": {
      "text/plain": [
       "array([[ 3.85397609e-02, -1.98033322e-02, -1.98033103e-02],\n",
       "       [-1.98033322e-02,  2.50124904e+01, -2.49875096e+01],\n",
       "       [-1.98033103e-02, -2.49875096e+01,  2.50124903e+01]])"
      ]
     },
     "execution_count": 321,
     "metadata": {},
     "output_type": "execute_result"
    }
   ],
   "source": [
    "np.linalg.inv(XTX)"
   ]
  },
  {
   "cell_type": "code",
   "execution_count": 322,
   "id": "3a1f5664",
   "metadata": {},
   "outputs": [],
   "source": [
    "def train_linear_regression_reg(X, y, r=0.001):\n",
    "    ones = np.ones(X.shape[0])\n",
    "    X = np.column_stack([ones, X])\n",
    "\n",
    "    XTX = X.T.dot(X)\n",
    "    XTX = XTX + r * np.eye(XTX.shape[0])\n",
    "\n",
    "    XTX_inv = np.linalg.inv(XTX)\n",
    "    w_full = XTX_inv.dot(X.T).dot(y)\n",
    "    \n",
    "    return w_full[0], w_full[1:]"
   ]
  },
  {
   "cell_type": "code",
   "execution_count": 323,
   "id": "ea3ed4cd",
   "metadata": {},
   "outputs": [
    {
     "data": {
      "text/plain": [
       "np.float64(0.5424816261704184)"
      ]
     },
     "execution_count": 323,
     "metadata": {},
     "output_type": "execute_result"
    }
   ],
   "source": [
    "X_train = prepare_X(df_train)\n",
    "w0, w = train_linear_regression_reg(X_train, y_train, r=0.01)\n",
    "\n",
    "X_val = prepare_X(df_val)\n",
    "y_pred = w0 + X_val.dot(w)\n",
    "rmse(y_val, y_pred)"
   ]
  }
 ],
 "metadata": {
  "kernelspec": {
   "display_name": "Python 3",
   "language": "python",
   "name": "python3"
  },
  "language_info": {
   "codemirror_mode": {
    "name": "ipython",
    "version": 3
   },
   "file_extension": ".py",
   "mimetype": "text/x-python",
   "name": "python",
   "nbconvert_exporter": "python",
   "pygments_lexer": "ipython3",
   "version": "3.13.7"
  }
 },
 "nbformat": 4,
 "nbformat_minor": 5
}
